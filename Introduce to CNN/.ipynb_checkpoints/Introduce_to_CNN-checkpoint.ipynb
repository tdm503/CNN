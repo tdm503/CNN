{
  "nbformat": 4,
  "nbformat_minor": 0,
  "metadata": {
    "colab": {
      "provenance": []
    },
    "kernelspec": {
      "name": "python3",
      "display_name": "Python 3"
    },
    "language_info": {
      "name": "python"
    }
  },
  "cells": [
    {
      "cell_type": "markdown",
      "source": [
        "#Convolutional operation"
      ],
      "metadata": {
        "id": "7ZEsgGLdCi5t"
      }
    },
    {
      "cell_type": "code",
      "source": [
        "import torch\n",
        "import torch.nn as nn"
      ],
      "metadata": {
        "id": "QJopD8QhC-EV"
      },
      "execution_count": 20,
      "outputs": []
    },
    {
      "cell_type": "code",
      "execution_count": 21,
      "metadata": {
        "colab": {
          "base_uri": "https://localhost:8080/"
        },
        "id": "T-zyTz38CEZG",
        "outputId": "fb5ad6f0-7032-4134-d526-fe06542e6719"
      },
      "outputs": [
        {
          "output_type": "execute_result",
          "data": {
            "text/plain": [
              "tensor([[[2., 0., 1., 1., 4., 0.],\n",
              "         [3., 0., 3., 1., 0., 2.],\n",
              "         [4., 3., 3., 2., 1., 3.],\n",
              "         [2., 0., 3., 4., 2., 2.],\n",
              "         [1., 1., 4., 3., 3., 4.],\n",
              "         [3., 3., 0., 0., 3., 1.]]])"
            ]
          },
          "metadata": {},
          "execution_count": 21
        }
      ],
      "source": [
        "input = torch.randint(5,(1,6,6),dtype=torch.float32) #initialize a tensor with 1 channel,6x6 matrix\n",
        "input"
      ]
    },
    {
      "cell_type": "code",
      "source": [
        "#define convolution layers\n",
        "conv_layer = nn.Conv2d(\n",
        "    in_channels = 1,\n",
        "    out_channels = 1,\n",
        "    kernel_size = 3,\n",
        "    bias = False\n",
        "    #What is mean of bias value ?\n",
        ")"
      ],
      "metadata": {
        "id": "ifNFb4psDXcU"
      },
      "execution_count": 22,
      "outputs": []
    },
    {
      "cell_type": "code",
      "source": [
        "#define convolution layers\n",
        "conv_layer1 = nn.Conv2d(\n",
        "    in_channels = 1,\n",
        "    out_channels = 1,\n",
        "    kernel_size = 3,\n",
        "    bias = 2\n",
        "    #What is mean of bias value ?\n",
        ")"
      ],
      "metadata": {
        "id": "usS9_v_YH7Gr"
      },
      "execution_count": 28,
      "outputs": []
    },
    {
      "cell_type": "code",
      "source": [
        "#define convolution layers\n",
        "conv_layer2 = nn.Conv2d(\n",
        "    in_channels = 1,\n",
        "    out_channels = 1,\n",
        "    kernel_size = 3,\n",
        "    bias = 2,\n",
        "    padding = 'same' # find padding size such that output size = input size\n",
        "    #What is mean of bias value ?\n",
        ")"
      ],
      "metadata": {
        "id": "24yes1mMJojN"
      },
      "execution_count": 33,
      "outputs": []
    },
    {
      "cell_type": "code",
      "source": [
        "conv_layer.weight\n",
        "#why this is need requires_grad = True ?"
      ],
      "metadata": {
        "colab": {
          "base_uri": "https://localhost:8080/"
        },
        "id": "lNyc-UyED-km",
        "outputId": "d374f957-2547-4c18-9587-7fc302be16c1"
      },
      "execution_count": 23,
      "outputs": [
        {
          "output_type": "execute_result",
          "data": {
            "text/plain": [
              "Parameter containing:\n",
              "tensor([[[[ 0.2521, -0.0533,  0.1446],\n",
              "          [ 0.3314, -0.3178, -0.1751],\n",
              "          [ 0.2681,  0.0965,  0.1212]]]], requires_grad=True)"
            ]
          },
          "metadata": {},
          "execution_count": 23
        }
      ]
    },
    {
      "cell_type": "code",
      "source": [
        "init_kernal_weight = torch.randint(\n",
        "    0, # low\n",
        "    2, # high\n",
        "    size = (conv_layer.weight.data.shape), # size\n",
        "    dtype = torch.float32\n",
        ")"
      ],
      "metadata": {
        "id": "lrKDUuHvEGp5"
      },
      "execution_count": 24,
      "outputs": []
    },
    {
      "cell_type": "code",
      "source": [
        "init_kernal_weight"
      ],
      "metadata": {
        "colab": {
          "base_uri": "https://localhost:8080/"
        },
        "id": "mcs16T9zEsNe",
        "outputId": "9a77a055-8f86-49f0-bc4f-82f2e9760997"
      },
      "execution_count": 25,
      "outputs": [
        {
          "output_type": "execute_result",
          "data": {
            "text/plain": [
              "tensor([[[[0., 0., 1.],\n",
              "          [1., 0., 1.],\n",
              "          [0., 0., 0.]]]])"
            ]
          },
          "metadata": {},
          "execution_count": 25
        }
      ]
    },
    {
      "cell_type": "code",
      "source": [
        "conv_layer.weight.data =init_kernal_weight\n",
        "conv_layer1.weight.data =init_kernal_weight\n",
        "conv_layer.weight"
      ],
      "metadata": {
        "colab": {
          "base_uri": "https://localhost:8080/"
        },
        "id": "fAt9kRADEvJn",
        "outputId": "b8f906f8-d545-4b94-b91d-9a4b18bed2c3"
      },
      "execution_count": 29,
      "outputs": [
        {
          "output_type": "execute_result",
          "data": {
            "text/plain": [
              "Parameter containing:\n",
              "tensor([[[[0., 0., 1.],\n",
              "          [1., 0., 1.],\n",
              "          [0., 0., 0.]]]], requires_grad=True)"
            ]
          },
          "metadata": {},
          "execution_count": 29
        }
      ]
    },
    {
      "cell_type": "code",
      "source": [
        "output = conv_layer(input)\n",
        "output #no bias"
      ],
      "metadata": {
        "colab": {
          "base_uri": "https://localhost:8080/"
        },
        "id": "wMI28JqJE7Fm",
        "outputId": "64ee82af-20c2-4cca-b9b5-0b9dd360180c"
      },
      "execution_count": 30,
      "outputs": [
        {
          "output_type": "execute_result",
          "data": {
            "text/plain": [
              "tensor([[[ 7.,  2.,  7.,  3.],\n",
              "         [10.,  6.,  4.,  7.],\n",
              "         [ 8.,  6.,  6.,  9.],\n",
              "         [ 8.,  8.,  9.,  9.]]], grad_fn=<SqueezeBackward1>)"
            ]
          },
          "metadata": {},
          "execution_count": 30
        }
      ]
    },
    {
      "cell_type": "code",
      "source": [
        "output = conv_layer1(input) #bias = 2"
      ],
      "metadata": {
        "id": "ZiKdbj-mFBC5"
      },
      "execution_count": 31,
      "outputs": []
    },
    {
      "cell_type": "code",
      "source": [
        "output"
      ],
      "metadata": {
        "colab": {
          "base_uri": "https://localhost:8080/"
        },
        "id": "6lJwLQ8iIECi",
        "outputId": "c5c4eab5-a9da-433a-eaa3-cb42c262c770"
      },
      "execution_count": 32,
      "outputs": [
        {
          "output_type": "execute_result",
          "data": {
            "text/plain": [
              "tensor([[[ 7.2092,  2.2092,  7.2092,  3.2092],\n",
              "         [10.2092,  6.2092,  4.2092,  7.2092],\n",
              "         [ 8.2092,  6.2092,  6.2092,  9.2092],\n",
              "         [ 8.2092,  8.2092,  9.2092,  9.2092]]], grad_fn=<SqueezeBackward1>)"
            ]
          },
          "metadata": {},
          "execution_count": 32
        }
      ]
    },
    {
      "cell_type": "code",
      "source": [
        "conv_layer2.weight.data =init_kernal_weight\n",
        "output = conv_layer2(input)\n",
        "output"
      ],
      "metadata": {
        "colab": {
          "base_uri": "https://localhost:8080/"
        },
        "id": "MqblLSJ9J9eG",
        "outputId": "0e58bc46-634e-40ac-fd71-58d3e46697fe"
      },
      "execution_count": 34,
      "outputs": [
        {
          "output_type": "execute_result",
          "data": {
            "text/plain": [
              "tensor([[[-0.0262,  2.9738,  0.9738,  4.9738,  0.9738,  3.9738],\n",
              "         [-0.0262,  6.9738,  1.9738,  6.9738,  2.9738, -0.0262],\n",
              "         [ 2.9738,  9.9738,  5.9738,  3.9738,  6.9738,  0.9738],\n",
              "         [ 2.9738,  7.9738,  5.9738,  5.9738,  8.9738,  1.9738],\n",
              "         [ 0.9738,  7.9738,  7.9738,  8.9738,  8.9738,  2.9738],\n",
              "         [ 3.9738,  6.9738,  5.9738,  5.9738,  4.9738,  2.9738]]],\n",
              "       grad_fn=<SqueezeBackward1>)"
            ]
          },
          "metadata": {},
          "execution_count": 34
        }
      ]
    },
    {
      "cell_type": "code",
      "source": [
        "#define convolution layers\n",
        "conv_layer3 = nn.Conv2d(\n",
        "    in_channels = 1,\n",
        "    out_channels = 1,\n",
        "    kernel_size = 3,\n",
        "    bias = 2,\n",
        "    padding = (2,1)\n",
        "    #What is mean of bias value ?\n",
        ")"
      ],
      "metadata": {
        "id": "CQ8lwhxNKBQ9"
      },
      "execution_count": 35,
      "outputs": []
    },
    {
      "cell_type": "code",
      "source": [
        "conv_layer3.weight.data =init_kernal_weight\n",
        "output = conv_layer3(input)\n",
        "output"
      ],
      "metadata": {
        "colab": {
          "base_uri": "https://localhost:8080/"
        },
        "id": "0t2LSs3TKe-d",
        "outputId": "592a1f93-ba26-47ee-a439-81202341b6a6"
      },
      "execution_count": 36,
      "outputs": [
        {
          "output_type": "execute_result",
          "data": {
            "text/plain": [
              "tensor([[[ 0.0811,  0.0811,  0.0811,  0.0811,  0.0811,  0.0811],\n",
              "         [ 0.0811,  3.0811,  1.0811,  5.0811,  1.0811,  4.0811],\n",
              "         [ 0.0811,  7.0811,  2.0811,  7.0811,  3.0811,  0.0811],\n",
              "         [ 3.0811, 10.0811,  6.0811,  4.0811,  7.0811,  1.0811],\n",
              "         [ 3.0811,  8.0811,  6.0811,  6.0811,  9.0811,  2.0811],\n",
              "         [ 1.0811,  8.0811,  8.0811,  9.0811,  9.0811,  3.0811],\n",
              "         [ 4.0811,  7.0811,  6.0811,  6.0811,  5.0811,  3.0811],\n",
              "         [ 3.0811,  0.0811,  0.0811,  3.0811,  1.0811,  0.0811]]],\n",
              "       grad_fn=<SqueezeBackward1>)"
            ]
          },
          "metadata": {},
          "execution_count": 36
        }
      ]
    },
    {
      "cell_type": "markdown",
      "source": [
        "#Pooling layer"
      ],
      "metadata": {
        "id": "qOAub-4ONvpV"
      }
    },
    {
      "cell_type": "code",
      "source": [
        "input = torch.randint(\n",
        "    high = 5,\n",
        "    size = (1,6,6),\n",
        "    dtype = torch.float32\n",
        ")\n",
        "input"
      ],
      "metadata": {
        "colab": {
          "base_uri": "https://localhost:8080/"
        },
        "id": "u9cs8V_1OHZ6",
        "outputId": "818f64ac-0740-4f38-9a1d-06cf26065b10"
      },
      "execution_count": 37,
      "outputs": [
        {
          "output_type": "execute_result",
          "data": {
            "text/plain": [
              "tensor([[[1., 1., 2., 0., 0., 3.],\n",
              "         [3., 2., 4., 1., 2., 4.],\n",
              "         [0., 0., 0., 4., 0., 4.],\n",
              "         [4., 4., 2., 3., 4., 1.],\n",
              "         [2., 4., 4., 3., 4., 4.],\n",
              "         [0., 2., 3., 1., 2., 1.]]])"
            ]
          },
          "metadata": {},
          "execution_count": 37
        }
      ]
    },
    {
      "cell_type": "code",
      "source": [
        "max_pool_layer = nn.MaxPool2d(kernel_size=2) # default stride = 2"
      ],
      "metadata": {
        "id": "vmgDbNz3OO6y"
      },
      "execution_count": 38,
      "outputs": []
    },
    {
      "cell_type": "code",
      "source": [
        "output = max_pool_layer(input)\n",
        "output"
      ],
      "metadata": {
        "colab": {
          "base_uri": "https://localhost:8080/"
        },
        "id": "EwTUPS7UOWVL",
        "outputId": "146f31e0-3361-4607-986d-e6dfd59d3ed9"
      },
      "execution_count": 39,
      "outputs": [
        {
          "output_type": "execute_result",
          "data": {
            "text/plain": [
              "tensor([[[3., 4., 4.],\n",
              "         [4., 4., 4.],\n",
              "         [4., 4., 4.]]])"
            ]
          },
          "metadata": {},
          "execution_count": 39
        }
      ]
    },
    {
      "cell_type": "markdown",
      "source": [
        "#Flatten\n"
      ],
      "metadata": {
        "id": "SMY_-DpgRE-N"
      }
    },
    {
      "cell_type": "code",
      "source": [
        "input = torch.randint(\n",
        "    high = 5,\n",
        "    size = (6,6),\n",
        "    dtype = torch.float32\n",
        ")\n",
        "input"
      ],
      "metadata": {
        "colab": {
          "base_uri": "https://localhost:8080/"
        },
        "id": "2RdtgFaBRGrF",
        "outputId": "1cb5e32d-8052-4f67-ff4b-c59b2c8e55be"
      },
      "execution_count": 42,
      "outputs": [
        {
          "output_type": "execute_result",
          "data": {
            "text/plain": [
              "tensor([[3., 2., 3., 1., 2., 3.],\n",
              "        [1., 3., 1., 2., 1., 4.],\n",
              "        [2., 4., 2., 4., 2., 0.],\n",
              "        [0., 2., 4., 1., 2., 4.],\n",
              "        [3., 2., 2., 1., 4., 0.],\n",
              "        [2., 3., 1., 1., 0., 2.]])"
            ]
          },
          "metadata": {},
          "execution_count": 42
        }
      ]
    },
    {
      "cell_type": "code",
      "source": [
        "output = nn.Flatten(input)\n",
        "output"
      ],
      "metadata": {
        "colab": {
          "base_uri": "https://localhost:8080/"
        },
        "id": "9-DN2wMzRIX2",
        "outputId": "4fee3ffb-9185-4682-e303-5484edb64104"
      },
      "execution_count": 43,
      "outputs": [
        {
          "output_type": "execute_result",
          "data": {
            "text/plain": [
              "Flatten(\n",
              "  start_dim=tensor([[3., 2., 3., 1., 2., 3.],\n",
              "          [1., 3., 1., 2., 1., 4.],\n",
              "          [2., 4., 2., 4., 2., 0.],\n",
              "          [0., 2., 4., 1., 2., 4.],\n",
              "          [3., 2., 2., 1., 4., 0.],\n",
              "          [2., 3., 1., 1., 0., 2.]]), end_dim=-1\n",
              ")"
            ]
          },
          "metadata": {},
          "execution_count": 43
        }
      ]
    },
    {
      "cell_type": "code",
      "source": [
        "flatten_layer = nn.Flatten()\n",
        "output = flatten_layer(input)\n",
        "output"
      ],
      "metadata": {
        "colab": {
          "base_uri": "https://localhost:8080/"
        },
        "id": "RthrOq6ZRLoz",
        "outputId": "551ce10d-6d66-45da-bb8e-b4f19c9afb14"
      },
      "execution_count": 44,
      "outputs": [
        {
          "output_type": "execute_result",
          "data": {
            "text/plain": [
              "tensor([[3., 2., 3., 1., 2., 3.],\n",
              "        [1., 3., 1., 2., 1., 4.],\n",
              "        [2., 4., 2., 4., 2., 0.],\n",
              "        [0., 2., 4., 1., 2., 4.],\n",
              "        [3., 2., 2., 1., 4., 0.],\n",
              "        [2., 3., 1., 1., 0., 2.]])"
            ]
          },
          "metadata": {},
          "execution_count": 44
        }
      ]
    },
    {
      "cell_type": "code",
      "source": [],
      "metadata": {
        "id": "FDCOTUeLRWrt"
      },
      "execution_count": null,
      "outputs": []
    }
  ]
}