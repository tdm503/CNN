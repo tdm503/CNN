{
  "cells": [
    {
      "cell_type": "code",
      "execution_count": null,
      "id": "d4e45a49-974f-4f9c-8642-42e2c45aab71",
      "metadata": {
        "id": "d4e45a49-974f-4f9c-8642-42e2c45aab71"
      },
      "outputs": [],
      "source": [
        "import torch\n",
        "from torchvision import datasets, transforms\n",
        "import torch.nn as nn\n",
        "import torch.nn.functional as F\n",
        "\n",
        "import numpy as np\n",
        "import matplotlib.pyplot as plt\n",
        "\n",
        "from torchvision.datasets import CIFAR10\n",
        "from torch.utils.data import DataLoader\n",
        "from torch.optim import Adam\n",
        "import torchvision\n",
        "import torchvision.models as models\n",
        "\n",
        "torch.manual_seed(1)\n",
        "device = 'cuda' if torch.cuda.is_available() else 'cpu'"
      ]
    },
    {
      "cell_type": "code",
      "execution_count": null,
      "id": "42432066-6cf0-416b-961a-adb1e3217204",
      "metadata": {
        "id": "42432066-6cf0-416b-961a-adb1e3217204"
      },
      "outputs": [],
      "source": []
    },
    {
      "cell_type": "markdown",
      "id": "f913360b-019e-4d69-a540-b7b5715544e1",
      "metadata": {
        "id": "f913360b-019e-4d69-a540-b7b5715544e1"
      },
      "source": [
        "## Data"
      ]
    },
    {
      "cell_type": "code",
      "execution_count": null,
      "id": "3ad21976-2d99-49b7-b0b5-84e9ebcd371e",
      "metadata": {
        "id": "3ad21976-2d99-49b7-b0b5-84e9ebcd371e"
      },
      "outputs": [],
      "source": [
        "train_transform = transforms.Compose(\n",
        "    [\n",
        "        transforms.Resize((224, 224)),   # Resize images to a fixed size\n",
        "        transforms.ToTensor(),           # Convert images to PyTorch tensors\n",
        "        transforms.Normalize(mean=[0.485, 0.456, 0.406],\n",
        "                             std=[0.229, 0.224, 0.225]),\n",
        "        transforms.RandomErasing(p=0.75,\n",
        "                                 scale=(0.01, 0.3),\n",
        "                                 ratio=(1.0, 1.0),\n",
        "                                 value=0,\n",
        "                                 inplace =True)\n",
        "    ])\n",
        "\n",
        "test_transform = transforms.Compose([\n",
        "    transforms.Resize((224, 224)),   # Resize images to a fixed size\n",
        "    transforms.ToTensor(),           # Convert images to PyTorch tensors\n",
        "    transforms.Normalize(mean=[0.485, 0.456, 0.406],\n",
        "                         std=[0.229, 0.224, 0.225]) # Normalize\n",
        "])\n",
        "\n",
        "# Load datasets\n",
        "train_dataset = datasets.ImageFolder('data50/train', transform=train_transform)\n",
        "test_dataset = datasets.ImageFolder('data50/validation', transform=test_transform)\n",
        "\n",
        "# Create data loaders\n",
        "train_loader = DataLoader(train_dataset, batch_size=32, shuffle=True)\n",
        "test_loader = DataLoader(test_dataset, batch_size=32, shuffle=False)"
      ]
    },
    {
      "cell_type": "code",
      "execution_count": null,
      "id": "cf229497-4b6e-443d-b330-66b6fa139fcd",
      "metadata": {
        "id": "cf229497-4b6e-443d-b330-66b6fa139fcd"
      },
      "outputs": [],
      "source": []
    },
    {
      "cell_type": "markdown",
      "id": "6ea0dde8-29e7-4096-bd15-6a5ed74655f0",
      "metadata": {
        "id": "6ea0dde8-29e7-4096-bd15-6a5ed74655f0"
      },
      "source": [
        "## Model"
      ]
    },
    {
      "cell_type": "code",
      "execution_count": null,
      "id": "667fc692-e195-4fe1-94c0-1fda94be7849",
      "metadata": {
        "id": "667fc692-e195-4fe1-94c0-1fda94be7849",
        "outputId": "9a2430f7-337f-4b66-8fad-c74a7a91fc37"
      },
      "outputs": [
        {
          "name": "stdout",
          "output_type": "stream",
          "text": [
            "==========================================================================================\n",
            "Layer (type:depth-idx)                   Output Shape              Param #\n",
            "==========================================================================================\n",
            "├─Sequential: 1-1                        [-1, 512, 7, 7]           --\n",
            "|    └─Conv2d: 2-1                       [-1, 64, 224, 224]        1,792\n",
            "|    └─ReLU: 2-2                         [-1, 64, 224, 224]        --\n",
            "|    └─Conv2d: 2-3                       [-1, 64, 224, 224]        36,928\n",
            "|    └─ReLU: 2-4                         [-1, 64, 224, 224]        --\n",
            "|    └─MaxPool2d: 2-5                    [-1, 64, 112, 112]        --\n",
            "|    └─Conv2d: 2-6                       [-1, 128, 112, 112]       73,856\n",
            "|    └─ReLU: 2-7                         [-1, 128, 112, 112]       --\n",
            "|    └─Conv2d: 2-8                       [-1, 128, 112, 112]       147,584\n",
            "|    └─ReLU: 2-9                         [-1, 128, 112, 112]       --\n",
            "|    └─MaxPool2d: 2-10                   [-1, 128, 56, 56]         --\n",
            "|    └─Conv2d: 2-11                      [-1, 256, 56, 56]         295,168\n",
            "|    └─ReLU: 2-12                        [-1, 256, 56, 56]         --\n",
            "|    └─Conv2d: 2-13                      [-1, 256, 56, 56]         590,080\n",
            "|    └─ReLU: 2-14                        [-1, 256, 56, 56]         --\n",
            "|    └─Conv2d: 2-15                      [-1, 256, 56, 56]         590,080\n",
            "|    └─ReLU: 2-16                        [-1, 256, 56, 56]         --\n",
            "|    └─MaxPool2d: 2-17                   [-1, 256, 28, 28]         --\n",
            "|    └─Conv2d: 2-18                      [-1, 512, 28, 28]         1,180,160\n",
            "|    └─ReLU: 2-19                        [-1, 512, 28, 28]         --\n",
            "|    └─Conv2d: 2-20                      [-1, 512, 28, 28]         2,359,808\n",
            "|    └─ReLU: 2-21                        [-1, 512, 28, 28]         --\n",
            "|    └─Conv2d: 2-22                      [-1, 512, 28, 28]         2,359,808\n",
            "|    └─ReLU: 2-23                        [-1, 512, 28, 28]         --\n",
            "|    └─MaxPool2d: 2-24                   [-1, 512, 14, 14]         --\n",
            "|    └─Conv2d: 2-25                      [-1, 512, 14, 14]         2,359,808\n",
            "|    └─ReLU: 2-26                        [-1, 512, 14, 14]         --\n",
            "|    └─Conv2d: 2-27                      [-1, 512, 14, 14]         2,359,808\n",
            "|    └─ReLU: 2-28                        [-1, 512, 14, 14]         --\n",
            "|    └─Conv2d: 2-29                      [-1, 512, 14, 14]         2,359,808\n",
            "|    └─ReLU: 2-30                        [-1, 512, 14, 14]         --\n",
            "|    └─MaxPool2d: 2-31                   [-1, 512, 7, 7]           --\n",
            "├─Flatten: 1-2                           [-1, 25088]               --\n",
            "├─Dropout: 1-3                           [-1, 25088]               --\n",
            "├─Linear: 1-4                            [-1, 512]                 12,845,568\n",
            "├─ReLU: 1-5                              [-1, 512]                 --\n",
            "├─Dropout: 1-6                           [-1, 512]                 --\n",
            "├─Linear: 1-7                            [-1, 2]                   1,026\n",
            "==========================================================================================\n",
            "Total params: 27,561,282\n",
            "Trainable params: 27,561,282\n",
            "Non-trainable params: 0\n",
            "Total mult-adds (G): 15.37\n",
            "==========================================================================================\n",
            "Input size (MB): 0.57\n",
            "Forward/backward pass size (MB): 103.36\n",
            "Params size (MB): 105.14\n",
            "Estimated Total Size (MB): 209.08\n",
            "==========================================================================================\n"
          ]
        },
        {
          "data": {
            "text/plain": [
              "==========================================================================================\n",
              "Layer (type:depth-idx)                   Output Shape              Param #\n",
              "==========================================================================================\n",
              "├─Sequential: 1-1                        [-1, 512, 7, 7]           --\n",
              "|    └─Conv2d: 2-1                       [-1, 64, 224, 224]        1,792\n",
              "|    └─ReLU: 2-2                         [-1, 64, 224, 224]        --\n",
              "|    └─Conv2d: 2-3                       [-1, 64, 224, 224]        36,928\n",
              "|    └─ReLU: 2-4                         [-1, 64, 224, 224]        --\n",
              "|    └─MaxPool2d: 2-5                    [-1, 64, 112, 112]        --\n",
              "|    └─Conv2d: 2-6                       [-1, 128, 112, 112]       73,856\n",
              "|    └─ReLU: 2-7                         [-1, 128, 112, 112]       --\n",
              "|    └─Conv2d: 2-8                       [-1, 128, 112, 112]       147,584\n",
              "|    └─ReLU: 2-9                         [-1, 128, 112, 112]       --\n",
              "|    └─MaxPool2d: 2-10                   [-1, 128, 56, 56]         --\n",
              "|    └─Conv2d: 2-11                      [-1, 256, 56, 56]         295,168\n",
              "|    └─ReLU: 2-12                        [-1, 256, 56, 56]         --\n",
              "|    └─Conv2d: 2-13                      [-1, 256, 56, 56]         590,080\n",
              "|    └─ReLU: 2-14                        [-1, 256, 56, 56]         --\n",
              "|    └─Conv2d: 2-15                      [-1, 256, 56, 56]         590,080\n",
              "|    └─ReLU: 2-16                        [-1, 256, 56, 56]         --\n",
              "|    └─MaxPool2d: 2-17                   [-1, 256, 28, 28]         --\n",
              "|    └─Conv2d: 2-18                      [-1, 512, 28, 28]         1,180,160\n",
              "|    └─ReLU: 2-19                        [-1, 512, 28, 28]         --\n",
              "|    └─Conv2d: 2-20                      [-1, 512, 28, 28]         2,359,808\n",
              "|    └─ReLU: 2-21                        [-1, 512, 28, 28]         --\n",
              "|    └─Conv2d: 2-22                      [-1, 512, 28, 28]         2,359,808\n",
              "|    └─ReLU: 2-23                        [-1, 512, 28, 28]         --\n",
              "|    └─MaxPool2d: 2-24                   [-1, 512, 14, 14]         --\n",
              "|    └─Conv2d: 2-25                      [-1, 512, 14, 14]         2,359,808\n",
              "|    └─ReLU: 2-26                        [-1, 512, 14, 14]         --\n",
              "|    └─Conv2d: 2-27                      [-1, 512, 14, 14]         2,359,808\n",
              "|    └─ReLU: 2-28                        [-1, 512, 14, 14]         --\n",
              "|    └─Conv2d: 2-29                      [-1, 512, 14, 14]         2,359,808\n",
              "|    └─ReLU: 2-30                        [-1, 512, 14, 14]         --\n",
              "|    └─MaxPool2d: 2-31                   [-1, 512, 7, 7]           --\n",
              "├─Flatten: 1-2                           [-1, 25088]               --\n",
              "├─Dropout: 1-3                           [-1, 25088]               --\n",
              "├─Linear: 1-4                            [-1, 512]                 12,845,568\n",
              "├─ReLU: 1-5                              [-1, 512]                 --\n",
              "├─Dropout: 1-6                           [-1, 512]                 --\n",
              "├─Linear: 1-7                            [-1, 2]                   1,026\n",
              "==========================================================================================\n",
              "Total params: 27,561,282\n",
              "Trainable params: 27,561,282\n",
              "Non-trainable params: 0\n",
              "Total mult-adds (G): 15.37\n",
              "==========================================================================================\n",
              "Input size (MB): 0.57\n",
              "Forward/backward pass size (MB): 103.36\n",
              "Params size (MB): 105.14\n",
              "Estimated Total Size (MB): 209.08\n",
              "=========================================================================================="
            ]
          },
          "execution_count": 3,
          "metadata": {},
          "output_type": "execute_result"
        }
      ],
      "source": [
        "from torchsummary import summary\n",
        "\n",
        "# Load the VGG16 model\n",
        "vgg16 = models.vgg16()\n",
        "f_extractor = vgg16.features\n",
        "\n",
        "model = nn.Sequential(f_extractor,\n",
        "                      nn.Flatten(),\n",
        "                      nn.Dropout(0.3),\n",
        "                      nn.Linear(512*7*7, 512),\n",
        "                      nn.ReLU(),\n",
        "                      nn.Dropout(0.3),\n",
        "                      nn.Linear(512, 2))\n",
        "\n",
        "\n",
        "\n",
        "model.to(device)\n",
        "summary(model, (3, 224, 224))"
      ]
    },
    {
      "cell_type": "code",
      "execution_count": null,
      "id": "c8516821-d41b-42a8-9e51-ddfb8f9ec87e",
      "metadata": {
        "id": "c8516821-d41b-42a8-9e51-ddfb8f9ec87e"
      },
      "outputs": [],
      "source": []
    },
    {
      "cell_type": "markdown",
      "id": "43c7b151-a199-4e2a-8015-fdfb5f166284",
      "metadata": {
        "id": "43c7b151-a199-4e2a-8015-fdfb5f166284"
      },
      "source": [
        "# Train"
      ]
    },
    {
      "cell_type": "code",
      "execution_count": null,
      "id": "1464e2bd-b627-475d-9941-f2a930d69a14",
      "metadata": {
        "id": "1464e2bd-b627-475d-9941-f2a930d69a14"
      },
      "outputs": [],
      "source": [
        "criterion = nn.CrossEntropyLoss()\n",
        "optimizer = Adam(model.parameters(), lr=1e-4)"
      ]
    },
    {
      "cell_type": "code",
      "execution_count": null,
      "id": "04744c84-1e6d-4bfb-8dd5-abbdc91f102e",
      "metadata": {
        "id": "04744c84-1e6d-4bfb-8dd5-abbdc91f102e"
      },
      "outputs": [],
      "source": [
        "# Function to compute loss and accuracy for test set\n",
        "def evaluate(model, test_loader, criterion):\n",
        "    model.eval()\n",
        "    test_loss = 0.0\n",
        "    running_correct = 0\n",
        "    total = 0\n",
        "    with torch.no_grad():\n",
        "        for images, labels in test_loader:\n",
        "            # Move inputs and labels to the device\n",
        "            images, labels = images.to(device), labels.to(device)\n",
        "\n",
        "            outputs = model(images)\n",
        "            loss = criterion(outputs, labels)\n",
        "            test_loss += loss.item()\n",
        "\n",
        "            _, predicted = torch.max(outputs.data, 1)\n",
        "            total += labels.size(0)\n",
        "            running_correct += (predicted == labels).sum().item()\n",
        "\n",
        "    accuracy = 100 * running_correct / total\n",
        "    test_loss = test_loss / len(test_loader)\n",
        "    return test_loss, accuracy"
      ]
    },
    {
      "cell_type": "code",
      "execution_count": null,
      "id": "f2402591-e7f7-4bdd-8962-c029cfcd9307",
      "metadata": {
        "id": "f2402591-e7f7-4bdd-8962-c029cfcd9307"
      },
      "outputs": [],
      "source": [
        "# some parameter\n",
        "train_losses = []\n",
        "train_accuracies = []\n",
        "test_losses = []\n",
        "test_accuracies = []\n",
        "max_epoch = 100"
      ]
    },
    {
      "cell_type": "code",
      "execution_count": null,
      "id": "190a58e1-0864-4818-a8d2-0f83212c6d13",
      "metadata": {
        "id": "190a58e1-0864-4818-a8d2-0f83212c6d13",
        "outputId": "ee3a76e4-7e02-4283-82bb-fa84c4df32ab"
      },
      "outputs": [
        {
          "name": "stdout",
          "output_type": "stream",
          "text": [
            "Epoch [1/100], Loss: 0.7349, Accuracy: 53.00%, Test Loss: 0.7061, Test Accuracy: 50.00%\n",
            "Epoch [2/100], Loss: 0.6983, Accuracy: 50.00%, Test Loss: 0.6951, Test Accuracy: 50.00%\n",
            "Epoch [3/100], Loss: 0.6951, Accuracy: 50.00%, Test Loss: 0.6921, Test Accuracy: 58.60%\n",
            "Epoch [4/100], Loss: 0.6972, Accuracy: 52.00%, Test Loss: 0.6913, Test Accuracy: 50.20%\n",
            "Epoch [5/100], Loss: 0.6868, Accuracy: 61.00%, Test Loss: 0.6958, Test Accuracy: 50.00%\n",
            "Epoch [6/100], Loss: 0.6657, Accuracy: 50.00%, Test Loss: 0.7180, Test Accuracy: 50.00%\n",
            "Epoch [7/100], Loss: 0.6566, Accuracy: 50.00%, Test Loss: 0.7407, Test Accuracy: 50.00%\n",
            "Epoch [8/100], Loss: 0.7223, Accuracy: 50.00%, Test Loss: 0.7029, Test Accuracy: 50.00%\n",
            "Epoch [9/100], Loss: 0.6827, Accuracy: 50.00%, Test Loss: 0.6914, Test Accuracy: 50.00%\n",
            "Epoch [10/100], Loss: 0.6895, Accuracy: 56.00%, Test Loss: 0.6909, Test Accuracy: 55.80%\n",
            "Epoch [11/100], Loss: 0.6875, Accuracy: 64.00%, Test Loss: 0.6898, Test Accuracy: 58.30%\n",
            "Epoch [12/100], Loss: 0.6843, Accuracy: 67.00%, Test Loss: 0.6863, Test Accuracy: 55.60%\n",
            "Epoch [13/100], Loss: 0.7194, Accuracy: 63.00%, Test Loss: 0.6777, Test Accuracy: 58.80%\n",
            "Epoch [14/100], Loss: 0.6548, Accuracy: 61.00%, Test Loss: 0.6787, Test Accuracy: 54.50%\n",
            "Epoch [15/100], Loss: 0.6408, Accuracy: 68.00%, Test Loss: 0.6817, Test Accuracy: 56.80%\n",
            "Epoch [16/100], Loss: 0.5468, Accuracy: 65.00%, Test Loss: 0.7911, Test Accuracy: 57.80%\n",
            "Epoch [17/100], Loss: 0.6480, Accuracy: 77.00%, Test Loss: 0.8483, Test Accuracy: 55.60%\n",
            "Epoch [18/100], Loss: 0.6242, Accuracy: 65.00%, Test Loss: 0.6942, Test Accuracy: 53.40%\n",
            "Epoch [19/100], Loss: 0.5872, Accuracy: 78.00%, Test Loss: 0.6854, Test Accuracy: 54.10%\n",
            "Epoch [20/100], Loss: 0.6121, Accuracy: 73.00%, Test Loss: 0.6932, Test Accuracy: 56.50%\n",
            "Epoch [21/100], Loss: 0.5914, Accuracy: 78.00%, Test Loss: 0.7582, Test Accuracy: 56.50%\n",
            "Epoch [22/100], Loss: 0.4921, Accuracy: 74.00%, Test Loss: 0.8049, Test Accuracy: 55.10%\n",
            "Epoch [23/100], Loss: 0.4305, Accuracy: 78.00%, Test Loss: 0.9961, Test Accuracy: 55.70%\n",
            "Epoch [24/100], Loss: 0.5647, Accuracy: 82.00%, Test Loss: 0.9980, Test Accuracy: 54.50%\n",
            "Epoch [25/100], Loss: 0.5130, Accuracy: 80.00%, Test Loss: 0.7284, Test Accuracy: 55.90%\n",
            "Epoch [26/100], Loss: 0.4687, Accuracy: 80.00%, Test Loss: 0.8136, Test Accuracy: 51.80%\n",
            "Epoch [27/100], Loss: 0.4265, Accuracy: 78.00%, Test Loss: 1.1414, Test Accuracy: 52.40%\n",
            "Epoch [28/100], Loss: 0.4360, Accuracy: 77.00%, Test Loss: 0.8872, Test Accuracy: 53.80%\n",
            "Epoch [29/100], Loss: 0.3612, Accuracy: 82.00%, Test Loss: 1.1472, Test Accuracy: 54.60%\n",
            "Epoch [30/100], Loss: 0.3867, Accuracy: 84.00%, Test Loss: 1.8418, Test Accuracy: 54.50%\n",
            "Epoch [31/100], Loss: 0.2475, Accuracy: 86.00%, Test Loss: 1.3503, Test Accuracy: 55.20%\n",
            "Epoch [32/100], Loss: 0.3538, Accuracy: 85.00%, Test Loss: 1.5799, Test Accuracy: 54.70%\n",
            "Epoch [33/100], Loss: 0.3619, Accuracy: 80.00%, Test Loss: 1.8475, Test Accuracy: 53.60%\n",
            "Epoch [34/100], Loss: 0.3030, Accuracy: 85.00%, Test Loss: 1.3964, Test Accuracy: 53.20%\n",
            "Epoch [35/100], Loss: 0.2449, Accuracy: 86.00%, Test Loss: 2.2163, Test Accuracy: 53.30%\n",
            "Epoch [36/100], Loss: 0.4254, Accuracy: 84.00%, Test Loss: 1.2932, Test Accuracy: 55.00%\n",
            "Epoch [37/100], Loss: 0.2394, Accuracy: 88.00%, Test Loss: 1.2705, Test Accuracy: 53.50%\n",
            "Epoch [38/100], Loss: 0.2915, Accuracy: 89.00%, Test Loss: 1.6233, Test Accuracy: 55.90%\n",
            "Epoch [39/100], Loss: 0.2992, Accuracy: 88.00%, Test Loss: 2.3059, Test Accuracy: 57.40%\n",
            "Epoch [40/100], Loss: 0.2828, Accuracy: 92.00%, Test Loss: 1.4623, Test Accuracy: 55.90%\n",
            "Epoch [41/100], Loss: 0.2650, Accuracy: 92.00%, Test Loss: 1.5948, Test Accuracy: 55.30%\n",
            "Epoch [42/100], Loss: 0.2457, Accuracy: 92.00%, Test Loss: 1.7817, Test Accuracy: 55.10%\n",
            "Epoch [43/100], Loss: 0.1899, Accuracy: 91.00%, Test Loss: 1.7898, Test Accuracy: 55.30%\n",
            "Epoch [44/100], Loss: 0.2320, Accuracy: 91.00%, Test Loss: 2.5347, Test Accuracy: 55.20%\n",
            "Epoch [45/100], Loss: 0.2181, Accuracy: 89.00%, Test Loss: 1.4237, Test Accuracy: 57.40%\n",
            "Epoch [46/100], Loss: 0.1524, Accuracy: 92.00%, Test Loss: 1.7354, Test Accuracy: 55.80%\n",
            "Epoch [47/100], Loss: 0.1033, Accuracy: 97.00%, Test Loss: 2.6575, Test Accuracy: 54.30%\n",
            "Epoch [48/100], Loss: 0.0747, Accuracy: 95.00%, Test Loss: 3.3705, Test Accuracy: 54.70%\n",
            "Epoch [49/100], Loss: 0.1761, Accuracy: 94.00%, Test Loss: 3.4731, Test Accuracy: 56.30%\n",
            "Epoch [50/100], Loss: 0.0591, Accuracy: 96.00%, Test Loss: 4.0841, Test Accuracy: 55.60%\n",
            "Epoch [51/100], Loss: 0.0976, Accuracy: 94.00%, Test Loss: 2.7536, Test Accuracy: 56.10%\n",
            "Epoch [52/100], Loss: 0.1409, Accuracy: 93.00%, Test Loss: 3.1229, Test Accuracy: 56.30%\n",
            "Epoch [53/100], Loss: 0.0192, Accuracy: 100.00%, Test Loss: 4.3391, Test Accuracy: 55.90%\n",
            "Epoch [54/100], Loss: 0.2100, Accuracy: 95.00%, Test Loss: 2.9251, Test Accuracy: 55.80%\n",
            "Epoch [55/100], Loss: 0.3028, Accuracy: 88.00%, Test Loss: 3.0379, Test Accuracy: 55.30%\n",
            "Epoch [56/100], Loss: 0.2097, Accuracy: 99.00%, Test Loss: 2.3442, Test Accuracy: 54.70%\n",
            "Epoch [57/100], Loss: 0.1912, Accuracy: 92.00%, Test Loss: 2.5081, Test Accuracy: 55.80%\n",
            "Epoch [58/100], Loss: 0.2757, Accuracy: 95.00%, Test Loss: 3.0116, Test Accuracy: 55.40%\n",
            "Epoch [59/100], Loss: 0.1611, Accuracy: 93.00%, Test Loss: 2.5430, Test Accuracy: 56.10%\n",
            "Epoch [60/100], Loss: 0.1744, Accuracy: 90.00%, Test Loss: 3.0110, Test Accuracy: 56.00%\n",
            "Epoch [61/100], Loss: 0.1534, Accuracy: 95.00%, Test Loss: 2.4284, Test Accuracy: 55.20%\n",
            "Epoch [62/100], Loss: 0.1270, Accuracy: 95.00%, Test Loss: 2.9384, Test Accuracy: 56.20%\n",
            "Epoch [63/100], Loss: 0.0411, Accuracy: 99.00%, Test Loss: 3.5359, Test Accuracy: 56.00%\n",
            "Epoch [64/100], Loss: 0.0751, Accuracy: 97.00%, Test Loss: 3.4790, Test Accuracy: 56.20%\n",
            "Epoch [65/100], Loss: 0.0411, Accuracy: 98.00%, Test Loss: 3.2448, Test Accuracy: 54.80%\n",
            "Epoch [66/100], Loss: 0.0829, Accuracy: 98.00%, Test Loss: 3.4135, Test Accuracy: 55.50%\n",
            "Epoch [67/100], Loss: 0.2288, Accuracy: 97.00%, Test Loss: 4.0688, Test Accuracy: 55.90%\n",
            "Epoch [68/100], Loss: 0.1073, Accuracy: 98.00%, Test Loss: 3.6307, Test Accuracy: 56.10%\n",
            "Epoch [69/100], Loss: 0.0591, Accuracy: 96.00%, Test Loss: 2.8785, Test Accuracy: 55.30%\n",
            "Epoch [70/100], Loss: 0.1120, Accuracy: 95.00%, Test Loss: 3.6820, Test Accuracy: 54.60%\n",
            "Epoch [71/100], Loss: 0.0959, Accuracy: 96.00%, Test Loss: 2.8862, Test Accuracy: 55.80%\n",
            "Epoch [72/100], Loss: 0.0632, Accuracy: 98.00%, Test Loss: 2.2997, Test Accuracy: 56.60%\n",
            "Epoch [73/100], Loss: 0.0462, Accuracy: 99.00%, Test Loss: 2.5005, Test Accuracy: 55.50%\n",
            "Epoch [74/100], Loss: 0.0952, Accuracy: 98.00%, Test Loss: 3.4477, Test Accuracy: 55.40%\n",
            "Epoch [75/100], Loss: 0.0838, Accuracy: 96.00%, Test Loss: 4.7455, Test Accuracy: 53.30%\n",
            "Epoch [76/100], Loss: 0.0551, Accuracy: 96.00%, Test Loss: 5.0924, Test Accuracy: 55.10%\n",
            "Epoch [77/100], Loss: 0.0313, Accuracy: 98.00%, Test Loss: 5.3904, Test Accuracy: 55.40%\n",
            "Epoch [78/100], Loss: 0.0319, Accuracy: 99.00%, Test Loss: 4.6362, Test Accuracy: 55.30%\n",
            "Epoch [79/100], Loss: 0.0169, Accuracy: 99.00%, Test Loss: 3.7864, Test Accuracy: 54.90%\n",
            "Epoch [80/100], Loss: 0.0307, Accuracy: 98.00%, Test Loss: 3.6225, Test Accuracy: 55.30%\n",
            "Epoch [81/100], Loss: 0.0239, Accuracy: 100.00%, Test Loss: 3.9450, Test Accuracy: 55.60%\n",
            "Epoch [82/100], Loss: 0.0538, Accuracy: 97.00%, Test Loss: 4.9363, Test Accuracy: 54.90%\n",
            "Epoch [83/100], Loss: 0.0125, Accuracy: 100.00%, Test Loss: 5.0069, Test Accuracy: 55.80%\n",
            "Epoch [84/100], Loss: 0.0107, Accuracy: 100.00%, Test Loss: 5.0569, Test Accuracy: 54.50%\n",
            "Epoch [85/100], Loss: 0.0045, Accuracy: 100.00%, Test Loss: 5.1478, Test Accuracy: 53.60%\n",
            "Epoch [86/100], Loss: 0.0064, Accuracy: 100.00%, Test Loss: 5.3933, Test Accuracy: 53.90%\n",
            "Epoch [87/100], Loss: 0.0077, Accuracy: 100.00%, Test Loss: 5.6268, Test Accuracy: 54.60%\n",
            "Epoch [88/100], Loss: 0.0130, Accuracy: 100.00%, Test Loss: 5.9204, Test Accuracy: 55.50%\n",
            "Epoch [89/100], Loss: 0.0174, Accuracy: 99.00%, Test Loss: 6.2996, Test Accuracy: 56.30%\n",
            "Epoch [90/100], Loss: 0.0209, Accuracy: 98.00%, Test Loss: 5.5292, Test Accuracy: 55.70%\n",
            "Epoch [91/100], Loss: 0.0105, Accuracy: 99.00%, Test Loss: 4.8585, Test Accuracy: 56.50%\n",
            "Epoch [92/100], Loss: 0.0156, Accuracy: 99.00%, Test Loss: 4.4508, Test Accuracy: 56.00%\n",
            "Epoch [93/100], Loss: 0.0128, Accuracy: 99.00%, Test Loss: 4.6076, Test Accuracy: 55.60%\n",
            "Epoch [94/100], Loss: 0.0233, Accuracy: 99.00%, Test Loss: 5.2870, Test Accuracy: 55.00%\n",
            "Epoch [95/100], Loss: 0.0121, Accuracy: 99.00%, Test Loss: 8.7374, Test Accuracy: 55.10%\n",
            "Epoch [96/100], Loss: 0.1847, Accuracy: 98.00%, Test Loss: 4.6223, Test Accuracy: 55.60%\n",
            "Epoch [97/100], Loss: 0.2700, Accuracy: 91.00%, Test Loss: 3.8584, Test Accuracy: 54.10%\n",
            "Epoch [98/100], Loss: 0.6013, Accuracy: 85.00%, Test Loss: 2.0359, Test Accuracy: 54.80%\n",
            "Epoch [99/100], Loss: 0.4079, Accuracy: 86.00%, Test Loss: 1.1979, Test Accuracy: 54.00%\n",
            "Epoch [100/100], Loss: 0.2663, Accuracy: 87.00%, Test Loss: 1.2933, Test Accuracy: 56.10%\n"
          ]
        }
      ],
      "source": [
        "# train\n",
        "for epoch in range(max_epoch):\n",
        "    model.train()\n",
        "    running_loss = 0.0\n",
        "    running_correct = 0   # to track number of correct predictions\n",
        "    total = 0             # to track total number of samples\n",
        "\n",
        "    for i, (inputs, labels) in enumerate(train_loader, 0):\n",
        "        # Move inputs and labels to the device\n",
        "        inputs, labels = inputs.to(device), labels.to(device)\n",
        "\n",
        "        # Zero the parameter gradients\n",
        "        optimizer.zero_grad()\n",
        "\n",
        "        # Forward pass\n",
        "        outputs = model(inputs)\n",
        "        loss = criterion(outputs, labels)\n",
        "        running_loss += loss.item()\n",
        "\n",
        "        # Backward pass and optimization\n",
        "        loss.backward()\n",
        "        optimizer.step()\n",
        "\n",
        "        # Determine class predictions and track accuracy\n",
        "        _, predicted = torch.max(outputs.data, 1)\n",
        "        total += labels.size(0)\n",
        "        running_correct += (predicted == labels).sum().item()\n",
        "\n",
        "\n",
        "    epoch_accuracy = 100 * running_correct / total\n",
        "    epoch_loss = running_loss / (i + 1)\n",
        "\n",
        "    test_loss, test_accuracy = evaluate(model, test_loader, criterion)\n",
        "    print(f\"Epoch [{epoch + 1}/{max_epoch}], Loss: {epoch_loss:.4f}, Accuracy: {epoch_accuracy:.2f}%, Test Loss: {test_loss:.4f}, Test Accuracy: {test_accuracy:.2f}%\")\n",
        "\n",
        "    # save for plot\n",
        "    train_losses.append(epoch_loss)\n",
        "    train_accuracies.append(epoch_accuracy)\n",
        "    test_losses.append(test_loss)\n",
        "    test_accuracies.append(test_accuracy)"
      ]
    },
    {
      "cell_type": "code",
      "source": [],
      "metadata": {
        "id": "kKzk6BBw0WPv"
      },
      "id": "kKzk6BBw0WPv",
      "execution_count": null,
      "outputs": []
    },
    {
      "cell_type": "code",
      "execution_count": null,
      "id": "cebcb439-88f2-40b6-9a17-4990ad324731",
      "metadata": {
        "id": "cebcb439-88f2-40b6-9a17-4990ad324731"
      },
      "outputs": [],
      "source": []
    },
    {
      "cell_type": "code",
      "execution_count": null,
      "id": "DkC3_902Lgn-",
      "metadata": {
        "id": "DkC3_902Lgn-",
        "outputId": "78ca383a-33db-4bba-a5a7-cc9dda4cee84"
      },
      "outputs": [
        {
          "data": {
            "text/plain": [
              "<matplotlib.legend.Legend at 0x7f3df57ddae0>"
            ]
          },
          "execution_count": 8,
          "metadata": {},
          "output_type": "execute_result"
        },
        {
          "data": {
            "image/png": "[encoded data removed]",
            "text/plain": [
              "<Figure size 640x480 with 1 Axes>"
            ]
          },
          "metadata": {},
          "output_type": "display_data"
        }
      ],
      "source": [
        "import matplotlib.pyplot as plt\n",
        "\n",
        "plt.plot(train_losses, label='train_losses')\n",
        "plt.plot(test_losses, label='test_losses')\n",
        "plt.legend()"
      ]
    },
    {
      "cell_type": "code",
      "execution_count": null,
      "id": "794f4e81",
      "metadata": {
        "id": "794f4e81",
        "outputId": "9af777a3-8243-4970-f88e-956b6b3afedd"
      },
      "outputs": [
        {
          "data": {
            "text/plain": [
              "<matplotlib.legend.Legend at 0x7f3de77671f0>"
            ]
          },
          "execution_count": 9,
          "metadata": {},
          "output_type": "execute_result"
        },
        {
          "data": {
            "image/png": "[encoded data removed]",
            "text/plain": [
              "<Figure size 640x480 with 1 Axes>"
            ]
          },
          "metadata": {},
          "output_type": "display_data"
        }
      ],
      "source": [
        "import matplotlib.pyplot as plt\n",
        "\n",
        "plt.plot(train_accuracies, label='train_accuracy')\n",
        "plt.plot(test_accuracies, label='test_accuracy')\n",
        "plt.legend()"
      ]
    },
    {
      "cell_type": "code",
      "execution_count": null,
      "id": "a2ec7c96-ff05-4863-92e7-c45f2f0e3d03",
      "metadata": {
        "id": "a2ec7c96-ff05-4863-92e7-c45f2f0e3d03"
      },
      "outputs": [],
      "source": []
    },
    {
      "cell_type": "code",
      "execution_count": null,
      "id": "8c86325e-7b6c-43a6-b315-93e02bcdb264",
      "metadata": {
        "id": "8c86325e-7b6c-43a6-b315-93e02bcdb264"
      },
      "outputs": [],
      "source": []
    },
    {
      "cell_type": "code",
      "execution_count": null,
      "id": "d2a401f6-9ed4-4dee-9e95-f65826e2d92d",
      "metadata": {
        "id": "d2a401f6-9ed4-4dee-9e95-f65826e2d92d",
        "outputId": "d8dd2bfd-1f91-4ca0-da11-cb33c28701f1"
      },
      "outputs": [
        {
          "data": {
            "text/plain": [
              "<matplotlib.legend.Legend at 0x7f3de0183ee0>"
            ]
          },
          "execution_count": 10,
          "metadata": {},
          "output_type": "execute_result"
        }
      ],
      "source": [
        "import matplotlib.pyplot as plt\n",
        "%matplotlib qt\n",
        "\n",
        "plt.plot(train_losses, label='train_losses')\n",
        "plt.plot(test_losses, label='test_losses')\n",
        "plt.legend()"
      ]
    },
    {
      "cell_type": "code",
      "execution_count": null,
      "id": "b4d1601e-a633-4f04-b476-7288856e1971",
      "metadata": {
        "id": "b4d1601e-a633-4f04-b476-7288856e1971",
        "outputId": "4fdb0f6b-d2c8-4677-d9f6-132440b3589a"
      },
      "outputs": [
        {
          "data": {
            "text/plain": [
              "<matplotlib.legend.Legend at 0x7f3d8c71f9a0>"
            ]
          },
          "execution_count": 11,
          "metadata": {},
          "output_type": "execute_result"
        }
      ],
      "source": [
        "import matplotlib.pyplot as plt\n",
        "%matplotlib qt\n",
        "\n",
        "plt.plot(train_accuracies, label='train_accuracy')\n",
        "plt.plot(test_accuracies, label='test_accuracy')\n",
        "plt.legend()"
      ]
    },
    {
      "cell_type": "code",
      "execution_count": null,
      "id": "386d038d-d554-4857-ab4b-fe1314e8937c",
      "metadata": {
        "id": "386d038d-d554-4857-ab4b-fe1314e8937c"
      },
      "outputs": [],
      "source": []
    }
  ],
  "metadata": {
    "accelerator": "GPU",
    "colab": {
      "provenance": []
    },
    "gpuClass": "standard",
    "kernelspec": {
      "display_name": "Python 3 (ipykernel)",
      "language": "python",
      "name": "python3"
    },
    "language_info": {
      "codemirror_mode": {
        "name": "ipython",
        "version": 3
      },
      "file_extension": ".py",
      "mimetype": "text/x-python",
      "name": "python",
      "nbconvert_exporter": "python",
      "pygments_lexer": "ipython3",
      "version": "3.11.5"
    }
  },
  "nbformat": 4,
  "nbformat_minor": 5
}