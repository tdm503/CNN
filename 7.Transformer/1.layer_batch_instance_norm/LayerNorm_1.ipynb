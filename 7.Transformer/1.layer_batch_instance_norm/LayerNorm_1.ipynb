{
  "cells": [
    {
      "cell_type": "markdown",
      "id": "7cc3f4a8",
      "metadata": {
        "id": "7cc3f4a8"
      },
      "source": [
        "## pytorch"
      ]
    },
    {
      "cell_type": "code",
      "execution_count": null,
      "id": "afeb0087",
      "metadata": {
        "id": "afeb0087",
        "outputId": "3e900755-359b-4ad5-c248-06a012ae68de"
      },
      "outputs": [
        {
          "data": {
            "text/plain": [
              "tensor([[[[ 0.3651, -1.0954],\n",
              "          [-0.7303,  1.4606]]]], grad_fn=<NativeLayerNormBackward0>)"
            ]
          },
          "execution_count": 1,
          "metadata": {},
          "output_type": "execute_result"
        }
      ],
      "source": [
        "import torch\n",
        "import numpy as np\n",
        "\n",
        " # Image Example\n",
        "N, C, H, W = 1, 1, 2, 2\n",
        "data =  np.array([[[5., 1.],\n",
        "                   [2., 8.]]])\n",
        "data = data.reshape(N, C, H, W)\n",
        "\n",
        "input = torch.tensor(data,dtype=torch.float)\n",
        "layer_norm = torch.nn.LayerNorm([C, H, W])\n",
        "output = layer_norm(input)\n",
        "output"
      ]
    },
    {
      "cell_type": "code",
      "source": [],
      "metadata": {
        "id": "w1FERQqCgw11"
      },
      "id": "w1FERQqCgw11",
      "execution_count": null,
      "outputs": []
    },
    {
      "cell_type": "code",
      "execution_count": null,
      "id": "46ed5cc7",
      "metadata": {
        "id": "46ed5cc7"
      },
      "outputs": [],
      "source": []
    },
    {
      "cell_type": "markdown",
      "id": "483d372e",
      "metadata": {
        "id": "483d372e"
      },
      "source": [
        "## self-implementation"
      ]
    },
    {
      "cell_type": "code",
      "execution_count": null,
      "id": "94d6b3f4",
      "metadata": {
        "id": "94d6b3f4",
        "outputId": "6ed580c6-7d3f-45ba-9045-524d7cbd448a"
      },
      "outputs": [
        {
          "name": "stdout",
          "output_type": "stream",
          "text": [
            "[4.]\n",
            "[2.73861279]\n",
            "1: \n",
            " [[ 0.36514837 -1.09544512]\n",
            " [-0.73029674  1.46059349]]\n"
          ]
        }
      ],
      "source": [
        "import numpy as np\n",
        "\n",
        "data =  np.array([[[5., 1.],\n",
        "                   [2., 8.]]])\n",
        "data = data.reshape(1, 2, 2, 1)\n",
        "\n",
        "eps = 0.0 #1e-5\n",
        "\n",
        "mean = data.mean(axis=(1, 2, 3))\n",
        "std  = np.sqrt(data.var(axis=(1, 2, 3)) + eps)\n",
        "\n",
        "print(mean)\n",
        "print(std)\n",
        "\n",
        "output_1 = (data[0] - mean[0]) / std[0]\n",
        "print('1: \\n', output_1[:,:,0])"
      ]
    }
  ],
  "metadata": {
    "kernelspec": {
      "display_name": "Python 3 (ipykernel)",
      "language": "python",
      "name": "python3"
    },
    "language_info": {
      "codemirror_mode": {
        "name": "ipython",
        "version": 3
      },
      "file_extension": ".py",
      "mimetype": "text/x-python",
      "name": "python",
      "nbconvert_exporter": "python",
      "pygments_lexer": "ipython3",
      "version": "3.11.5"
    },
    "colab": {
      "provenance": []
    }
  },
  "nbformat": 4,
  "nbformat_minor": 5
}