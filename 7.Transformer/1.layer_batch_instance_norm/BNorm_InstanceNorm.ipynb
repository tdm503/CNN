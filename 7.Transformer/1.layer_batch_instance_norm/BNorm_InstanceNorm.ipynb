{
  "cells": [
    {
      "cell_type": "code",
      "execution_count": null,
      "metadata": {
        "id": "F91pNe1G_D6f"
      },
      "outputs": [],
      "source": [
        "import torch\n",
        "import torch.nn as nn"
      ]
    },
    {
      "cell_type": "markdown",
      "metadata": {
        "id": "Y0bhxEPcaDBv"
      },
      "source": [
        "\\begin{align}\n",
        "        y = \\frac{x-E[x]}{\\sqrt{Var[x]+ϵ}}*\\gamma + \\beta\n",
        "    \\end{align}"
      ]
    },
    {
      "cell_type": "markdown",
      "metadata": {
        "id": "7hF2ilepiV-e"
      },
      "source": [
        "# 1. Batch Normalization"
      ]
    },
    {
      "cell_type": "code",
      "execution_count": null,
      "metadata": {
        "id": "t5l6twZ2_zpY"
      },
      "outputs": [],
      "source": [
        "batch_norm = nn.BatchNorm2d(num_features= 1,\n",
        "                            eps=1e-05,\n",
        "                            momentum=0.1,\n",
        "                            affine=True, track_running_stats=True)\n"
      ]
    },
    {
      "cell_type": "markdown",
      "metadata": {
        "id": "0D6YPgFMiZvt"
      },
      "source": [
        "# 2. Layer Normalization"
      ]
    },
    {
      "cell_type": "code",
      "execution_count": null,
      "metadata": {
        "id": "1405TC9f_zrp"
      },
      "outputs": [],
      "source": [
        "layer_norm = nn.LayerNorm(normalized_shape=1,\n",
        "                          eps=1e-05,\n",
        "                          elementwise_affine=True, bias=True)\n"
      ]
    },
    {
      "cell_type": "markdown",
      "metadata": {
        "id": "arYO5hbWZ_7V"
      },
      "source": [
        "# 3. Instance Normalization"
      ]
    },
    {
      "cell_type": "markdown",
      "metadata": {
        "id": "3ixOiCIWd3Ox"
      },
      "source": [
        "## 3.1 One sample - One chanel"
      ]
    },
    {
      "cell_type": "code",
      "execution_count": null,
      "metadata": {
        "id": "AFa_nokwld0N"
      },
      "outputs": [],
      "source": [
        "num_chanel = 1\n",
        "eps = 1e-5"
      ]
    },
    {
      "cell_type": "code",
      "execution_count": null,
      "metadata": {
        "colab": {
          "base_uri": "https://localhost:8080/"
        },
        "id": "6h_Fb4k1RcAn",
        "outputId": "b94c9643-74bf-4f26-e0c5-988ed379c09b"
      },
      "outputs": [
        {
          "data": {
            "text/plain": [
              "torch.Size([1, 1, 2, 2])"
            ]
          },
          "execution_count": 360,
          "metadata": {},
          "output_type": "execute_result"
        }
      ],
      "source": [
        "X = torch.tensor([\n",
        "    [[[1, 5],\n",
        "     [4, 0]]]\n",
        "], dtype=torch.float)\n",
        "\n",
        "X.shape"
      ]
    },
    {
      "cell_type": "code",
      "execution_count": null,
      "metadata": {
        "colab": {
          "base_uri": "https://localhost:8080/"
        },
        "id": "ZvdE51mRlZon",
        "outputId": "b72037f2-7035-4f76-ab80-bbd2ad2d0e82"
      },
      "outputs": [
        {
          "data": {
            "text/plain": [
              "tensor([[[[-0.7276,  1.2127],\n",
              "          [ 0.7276, -1.2127]]]])"
            ]
          },
          "execution_count": 361,
          "metadata": {},
          "output_type": "execute_result"
        }
      ],
      "source": [
        "X_mean =torch.mean(X, dim=(2, 3))[..., None, None]\n",
        "X_var = torch.var(X, correction=0, dim=(2, 3))[..., None, None]\n",
        "\n",
        "X_normalized = (X- X_mean) / torch.sqrt(X_var + eps)\n",
        "X_normalized"
      ]
    },
    {
      "cell_type": "code",
      "execution_count": null,
      "metadata": {
        "id": "ohzHko5y_ztx"
      },
      "outputs": [],
      "source": [
        "with torch.no_grad():\n",
        "    instance_norm = nn.InstanceNorm2d(num_features=num_chanel,\n",
        "                                    eps=eps,\n",
        "                                    momentum=0.1,\n",
        "                                    affine=False,\n",
        "                                    track_running_stats=False)\n",
        "    normalized_torch = instance_norm(X)"
      ]
    },
    {
      "cell_type": "code",
      "execution_count": null,
      "metadata": {
        "colab": {
          "base_uri": "https://localhost:8080/"
        },
        "id": "1dB3td_OQK19",
        "outputId": "c9ec4051-4ab1-4c98-dacc-b5726bd2bfc4"
      },
      "outputs": [
        {
          "data": {
            "text/plain": [
              "tensor([[[[-0.7276,  1.2127],\n",
              "          [ 0.7276, -1.2127]]]])"
            ]
          },
          "execution_count": 363,
          "metadata": {},
          "output_type": "execute_result"
        }
      ],
      "source": [
        "normalized_torch"
      ]
    },
    {
      "cell_type": "markdown",
      "metadata": {
        "id": "94eTNAEVlHos"
      },
      "source": [
        "## 3.2 One sample - Two chanels"
      ]
    },
    {
      "cell_type": "code",
      "execution_count": null,
      "metadata": {
        "id": "oqbOVzOWlHcJ"
      },
      "outputs": [],
      "source": [
        "num_chanel = 2\n",
        "eps = 1e-5"
      ]
    },
    {
      "cell_type": "code",
      "execution_count": null,
      "metadata": {
        "colab": {
          "base_uri": "https://localhost:8080/"
        },
        "id": "E0ibWu67lmiS",
        "outputId": "740aa91c-6207-4741-e50a-af15fbc7f76e"
      },
      "outputs": [
        {
          "data": {
            "text/plain": [
              "torch.Size([1, 2, 2, 2])"
            ]
          },
          "execution_count": 365,
          "metadata": {},
          "output_type": "execute_result"
        }
      ],
      "source": [
        "X = torch.tensor([\n",
        "    [[[1, 5],\n",
        "     [4, 0]],\n",
        "\n",
        "    [[5, 8],\n",
        "     [5, 1]]]\n",
        "], dtype=torch.float)\n",
        "\n",
        "X.shape"
      ]
    },
    {
      "cell_type": "code",
      "execution_count": null,
      "metadata": {
        "colab": {
          "base_uri": "https://localhost:8080/"
        },
        "id": "0aCQOjYYoKNa",
        "outputId": "5eafb50b-0db0-4e67-a2ee-47fae222a16f"
      },
      "outputs": [
        {
          "data": {
            "text/plain": [
              "tensor([[[[-0.7276,  1.2127],\n",
              "          [ 0.7276, -1.2127]],\n",
              "\n",
              "         [[ 0.1005,  1.3065],\n",
              "          [ 0.1005, -1.5076]]]])"
            ]
          },
          "execution_count": 366,
          "metadata": {},
          "output_type": "execute_result"
        }
      ],
      "source": [
        "X_mean =torch.mean(X, dim=(2, 3))[..., None, None]\n",
        "X_var = torch.var(X, correction=0, dim=(2, 3))[..., None, None]\n",
        "\n",
        "X_normalized = (X- X_mean) / torch.sqrt(X_var + eps)\n",
        "X_normalized"
      ]
    },
    {
      "cell_type": "code",
      "execution_count": null,
      "metadata": {
        "id": "LrsqoN12mVnr"
      },
      "outputs": [],
      "source": [
        "with torch.no_grad():\n",
        "    instance_norm = nn.InstanceNorm2d(num_features=2,\n",
        "                                    eps=1e-05,\n",
        "                                    momentum=0.1,\n",
        "                                    affine=False,\n",
        "                                    track_running_stats=False)\n",
        "    normalized_torch = instance_norm(X)"
      ]
    },
    {
      "cell_type": "code",
      "execution_count": null,
      "metadata": {
        "colab": {
          "base_uri": "https://localhost:8080/"
        },
        "id": "ykdn3nd6QGWW",
        "outputId": "e17dd3c3-4936-495f-f9e1-ba64c32c03c0"
      },
      "outputs": [
        {
          "data": {
            "text/plain": [
              "tensor([[[[-0.7276,  1.2127],\n",
              "          [ 0.7276, -1.2127]],\n",
              "\n",
              "         [[ 0.1005,  1.3065],\n",
              "          [ 0.1005, -1.5076]]]])"
            ]
          },
          "execution_count": 368,
          "metadata": {},
          "output_type": "execute_result"
        }
      ],
      "source": [
        "normalized_torch"
      ]
    },
    {
      "cell_type": "markdown",
      "metadata": {
        "id": "gu58HA9id5OO"
      },
      "source": [
        "## 3.3 Two samples - Two chanels"
      ]
    },
    {
      "cell_type": "code",
      "execution_count": null,
      "metadata": {
        "id": "OkXiH1kzveDn"
      },
      "outputs": [],
      "source": [
        "num_chanel = 2\n",
        "eps = 1e-5"
      ]
    },
    {
      "cell_type": "code",
      "execution_count": null,
      "metadata": {
        "colab": {
          "base_uri": "https://localhost:8080/"
        },
        "id": "e-0w4LFnd8Xj",
        "outputId": "3290144c-2aa0-4f10-d7ad-2048cfe6f283"
      },
      "outputs": [
        {
          "data": {
            "text/plain": [
              "torch.Size([2, 2, 2, 2])"
            ]
          },
          "execution_count": 370,
          "metadata": {},
          "output_type": "execute_result"
        }
      ],
      "source": [
        "X = torch.tensor([\n",
        "    [[[1, 5],\n",
        "     [4, 0]],\n",
        "    [[9, 2],\n",
        "     [6, 3]]],\n",
        "\n",
        "    [[[6, 3],\n",
        "     [1, 7]],\n",
        "    [[0, 2],\n",
        "     [1, 4]]]\n",
        "\n",
        "], dtype=torch.float)\n",
        "\n",
        "X.shape"
      ]
    },
    {
      "cell_type": "code",
      "execution_count": null,
      "metadata": {
        "colab": {
          "base_uri": "https://localhost:8080/"
        },
        "id": "3Fcb49N5eivK",
        "outputId": "13dc92d1-9b02-4ac7-ab5c-4954e12ebed3"
      },
      "outputs": [
        {
          "data": {
            "text/plain": [
              "tensor([[[[-0.7276,  1.2127],\n",
              "          [ 0.7276, -1.2127]],\n",
              "\n",
              "         [[ 1.4606, -1.0954],\n",
              "          [ 0.3651, -0.7303]]],\n",
              "\n",
              "\n",
              "        [[[ 0.7338, -0.5241],\n",
              "          [-1.3628,  1.1531]],\n",
              "\n",
              "         [[-1.1832,  0.1690],\n",
              "          [-0.5071,  1.5213]]]])"
            ]
          },
          "execution_count": 371,
          "metadata": {},
          "output_type": "execute_result"
        }
      ],
      "source": [
        "X_mean =torch.mean(X, dim=(2, 3))[..., None, None]\n",
        "X_var = torch.var(X, correction=0, dim=(2, 3))[..., None, None]\n",
        "\n",
        "X_normalized = (X- X_mean) / torch.sqrt(X_var + eps)\n",
        "X_normalized"
      ]
    },
    {
      "cell_type": "code",
      "execution_count": null,
      "metadata": {
        "id": "zqpRK2bpd8Zt"
      },
      "outputs": [],
      "source": [
        "with torch.no_grad():\n",
        "    instance_norm = nn.InstanceNorm2d(num_features=num_chanel,\n",
        "                                    eps=eps,\n",
        "                                    momentum=0.1,\n",
        "                                    affine=False,\n",
        "                                    track_running_stats=False)\n",
        "    normalized_torch = instance_norm(X)"
      ]
    },
    {
      "cell_type": "code",
      "execution_count": null,
      "metadata": {
        "colab": {
          "base_uri": "https://localhost:8080/"
        },
        "id": "fzUPJlFvPe9g",
        "outputId": "ba2b6002-7850-454f-bd4b-0959dc53e3b4"
      },
      "outputs": [
        {
          "data": {
            "text/plain": [
              "tensor([[[[-0.7276,  1.2127],\n",
              "          [ 0.7276, -1.2127]],\n",
              "\n",
              "         [[ 1.4606, -1.0954],\n",
              "          [ 0.3651, -0.7303]]],\n",
              "\n",
              "\n",
              "        [[[ 0.7338, -0.5241],\n",
              "          [-1.3628,  1.1531]],\n",
              "\n",
              "         [[-1.1832,  0.1690],\n",
              "          [-0.5071,  1.5213]]]])"
            ]
          },
          "execution_count": 373,
          "metadata": {},
          "output_type": "execute_result"
        }
      ],
      "source": [
        "normalized_torch"
      ]
    },
    {
      "cell_type": "markdown",
      "metadata": {
        "id": "XSDuGV0DiP-B"
      },
      "source": [
        "# 4. Group Normalization"
      ]
    },
    {
      "cell_type": "code",
      "execution_count": null,
      "metadata": {
        "id": "bjFfGP7od8b2"
      },
      "outputs": [],
      "source": [
        "num_channels = 4\n",
        "num_groups = 2\n",
        "assert (num_channels % num_groups) == 0, \"num_channels must be divisible by num_groups\"\n",
        "eps = 1e-5"
      ]
    },
    {
      "cell_type": "code",
      "execution_count": null,
      "metadata": {
        "colab": {
          "base_uri": "https://localhost:8080/"
        },
        "id": "lbtgIIJed8d8",
        "outputId": "8b5440a4-4e87-4f8e-ba4f-15a481fcf4c2"
      },
      "outputs": [
        {
          "data": {
            "text/plain": [
              "torch.Size([2, 4, 2, 2])"
            ]
          },
          "execution_count": 375,
          "metadata": {},
          "output_type": "execute_result"
        }
      ],
      "source": [
        "X = torch.tensor([\n",
        "    [\n",
        "        [[1, 5],\n",
        "         [4, 7]],\n",
        "\n",
        "        [[1, 2],\n",
        "         [4, 0]],\n",
        "\n",
        "        [[9, 2],\n",
        "         [0, 3]],\n",
        "\n",
        "        [[6, 3],\n",
        "         [1, 8]]\n",
        "    ],\n",
        "\n",
        "    [\n",
        "        [[5, 2],\n",
        "         [6, 3]],\n",
        "\n",
        "        [[1, 7],\n",
        "         [0, 7]],\n",
        "\n",
        "        [[0, 2],\n",
        "         [3, 3]],\n",
        "\n",
        "         [[1, 4],\n",
        "         [2, 5]]\n",
        "    ]\n",
        "\n",
        "], dtype=torch.float)\n",
        "\n",
        "X.shape"
      ]
    },
    {
      "cell_type": "code",
      "execution_count": null,
      "metadata": {
        "colab": {
          "base_uri": "https://localhost:8080/"
        },
        "id": "2Aa1P3Lqd8gT",
        "outputId": "cf41a80e-a433-487c-f8f1-4049c8bf3855"
      },
      "outputs": [
        {
          "data": {
            "text/plain": [
              "tensor([[[[-0.8944,  0.8944],\n",
              "          [ 0.4472,  1.7889]],\n",
              "\n",
              "         [[-0.8944, -0.4472],\n",
              "          [ 0.4472, -1.3416]],\n",
              "\n",
              "         [[ 1.6222, -0.6489],\n",
              "          [-1.2978, -0.3244]],\n",
              "\n",
              "         [[ 0.6489, -0.3244],\n",
              "          [-0.9733,  1.2978]]],\n",
              "\n",
              "\n",
              "        [[[ 0.4376, -0.7293],\n",
              "          [ 0.8266, -0.3404]],\n",
              "\n",
              "         [[-1.1183,  1.2155],\n",
              "          [-1.5073,  1.2155]],\n",
              "\n",
              "         [[-1.6667, -0.3333],\n",
              "          [ 0.3333,  0.3333]],\n",
              "\n",
              "         [[-1.0000,  1.0000],\n",
              "          [-0.3333,  1.6667]]]])"
            ]
          },
          "execution_count": 376,
          "metadata": {},
          "output_type": "execute_result"
        }
      ],
      "source": [
        "chanel_per_gr = num_channels // num_groups\n",
        "\n",
        "X_normalized = torch.clone(X)\n",
        "\n",
        "for i in range(X_normalized.size(0)):\n",
        "    for c in range(0, num_channels, chanel_per_gr):\n",
        "        X_gr = X_normalized[i, c:c+chanel_per_gr,:,:]\n",
        "        X_gr_mean =torch.mean(X_gr)\n",
        "        X_gr_var = torch.var(X_gr, correction=0)\n",
        "        X_normalized[i, c:c+chanel_per_gr,:,:] = (X_gr- X_gr_mean) / torch.sqrt(X_gr_var + eps)\n",
        "\n",
        "\n",
        "X_normalized"
      ]
    },
    {
      "cell_type": "code",
      "execution_count": null,
      "metadata": {
        "id": "fBuiYQdJ_zwB"
      },
      "outputs": [],
      "source": [
        "with torch.no_grad():\n",
        "    group_norm = nn.GroupNorm(num_groups=2,\n",
        "                            num_channels=4,\n",
        "                            eps=1e-05,\n",
        "                            affine=True)\n",
        "    normalized_torch = group_norm(X)"
      ]
    },
    {
      "cell_type": "code",
      "execution_count": null,
      "metadata": {
        "colab": {
          "base_uri": "https://localhost:8080/"
        },
        "id": "ca33BS0XKwQy",
        "outputId": "b3ef8f81-1e1a-4b88-ca03-271ea5c766ca"
      },
      "outputs": [
        {
          "data": {
            "text/plain": [
              "tensor([[[[-0.8944,  0.8944],\n",
              "          [ 0.4472,  1.7889]],\n",
              "\n",
              "         [[-0.8944, -0.4472],\n",
              "          [ 0.4472, -1.3416]],\n",
              "\n",
              "         [[ 1.6222, -0.6489],\n",
              "          [-1.2978, -0.3244]],\n",
              "\n",
              "         [[ 0.6489, -0.3244],\n",
              "          [-0.9733,  1.2978]]],\n",
              "\n",
              "\n",
              "        [[[ 0.4376, -0.7293],\n",
              "          [ 0.8266, -0.3404]],\n",
              "\n",
              "         [[-1.1183,  1.2155],\n",
              "          [-1.5073,  1.2155]],\n",
              "\n",
              "         [[-1.6667, -0.3333],\n",
              "          [ 0.3333,  0.3333]],\n",
              "\n",
              "         [[-1.0000,  1.0000],\n",
              "          [-0.3333,  1.6667]]]])"
            ]
          },
          "execution_count": 378,
          "metadata": {},
          "output_type": "execute_result"
        }
      ],
      "source": [
        "normalized_torch"
      ]
    }
  ],
  "metadata": {
    "colab": {
      "provenance": []
    },
    "kernelspec": {
      "display_name": "Python 3 (ipykernel)",
      "language": "python",
      "name": "python3"
    },
    "language_info": {
      "codemirror_mode": {
        "name": "ipython",
        "version": 3
      },
      "file_extension": ".py",
      "mimetype": "text/x-python",
      "name": "python",
      "nbconvert_exporter": "python",
      "pygments_lexer": "ipython3",
      "version": "3.11.5"
    }
  },
  "nbformat": 4,
  "nbformat_minor": 0
}