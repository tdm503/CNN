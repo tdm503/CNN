{
  "cells": [
    {
      "cell_type": "markdown",
      "id": "7cc3f4a8",
      "metadata": {
        "id": "7cc3f4a8"
      },
      "source": [
        "## pytorch"
      ]
    },
    {
      "cell_type": "code",
      "execution_count": null,
      "id": "afeb0087",
      "metadata": {
        "id": "afeb0087",
        "outputId": "6d016415-26fa-43ce-cadc-6c238ee62277"
      },
      "outputs": [
        {
          "name": "stdout",
          "output_type": "stream",
          "text": [
            "(1, 2, 2, 2)\n",
            "[[8. 6.]\n",
            " [2. 4.]]\n",
            "[[0. 2.]\n",
            " [1. 5.]]\n"
          ]
        }
      ],
      "source": [
        "import torch\n",
        "import numpy as np\n",
        "\n",
        " # Image Example\n",
        "N, C, H, W = 1, 2, 2, 2\n",
        "data =  np.zeros((N, C, H, W))\n",
        "data[0,0,:,:] = np.array([[8, 6],\n",
        "                          [2, 4]])\n",
        "data[0,1,:,:] = np.array([[0, 2],\n",
        "                          [1, 5]])\n",
        "\n",
        "data = data.reshape(N, C, H, W)\n",
        "print(data.shape)\n",
        "print(data[0,0,:,:])\n",
        "print(data[0,1,:,:])"
      ]
    },
    {
      "cell_type": "code",
      "execution_count": null,
      "id": "d911a720",
      "metadata": {
        "id": "d911a720",
        "outputId": "6fbfcc92-b611-488d-f999-af98646777a5"
      },
      "outputs": [
        {
          "name": "stdout",
          "output_type": "stream",
          "text": [
            "tensor([[[[ 1.7650,  0.9806],\n",
            "          [-0.5883,  0.1961]],\n",
            "\n",
            "         [[-1.3728, -0.5883],\n",
            "          [-0.9806,  0.5883]]]], grad_fn=<NativeLayerNormBackward0>)\n"
          ]
        }
      ],
      "source": [
        "input = torch.tensor(data,dtype=torch.float)\n",
        "layer_norm = torch.nn.LayerNorm([C, H, W])\n",
        "output = layer_norm(input)\n",
        "print(output)"
      ]
    },
    {
      "cell_type": "markdown",
      "id": "483d372e",
      "metadata": {
        "id": "483d372e"
      },
      "source": [
        "## self-implementation"
      ]
    },
    {
      "cell_type": "code",
      "execution_count": null,
      "id": "99bdf9e0",
      "metadata": {
        "id": "99bdf9e0",
        "outputId": "4c4c45db-e429-4533-cb0b-63a97ca4516b"
      },
      "outputs": [
        {
          "name": "stdout",
          "output_type": "stream",
          "text": [
            "(1, 2, 2, 2)\n",
            "[[8. 2.]\n",
            " [0. 1.]]\n",
            "[[6. 4.]\n",
            " [2. 5.]]\n"
          ]
        }
      ],
      "source": [
        "import numpy as np\n",
        "\n",
        "N, C, H, W = 1, 2, 2, 2\n",
        "data =  np.zeros((N, C, H, W))\n",
        "data[0,0,:,:] = np.array([[8, 6],\n",
        "                          [2, 4]])\n",
        "data[0,1,:,:] = np.array([[0, 2],\n",
        "                          [1, 5]])\n",
        "data = data.reshape(1, 2, 2, 2)  #H, W, C\n",
        "print(data.shape)\n",
        "print(data[0,:,:,0])\n",
        "print(data[0,:,:,1])"
      ]
    },
    {
      "cell_type": "code",
      "execution_count": null,
      "id": "0e436770",
      "metadata": {
        "id": "0e436770",
        "outputId": "0ca71875-1fcb-4f04-e126-4f7c4e10d0c7"
      },
      "outputs": [
        {
          "name": "stdout",
          "output_type": "stream",
          "text": [
            "[3.5]\n",
            "[2.54950976]\n"
          ]
        }
      ],
      "source": [
        "eps = 0.0 #1e-5\n",
        "\n",
        "mean = data.mean(axis=(1, 2, 3))\n",
        "std  = np.sqrt(data.var(axis=(1, 2, 3)) + eps)\n",
        "\n",
        "print(mean)\n",
        "print(std)"
      ]
    },
    {
      "cell_type": "code",
      "execution_count": null,
      "id": "3e836241",
      "metadata": {
        "id": "3e836241",
        "outputId": "c955459d-3ce5-4f7b-b88e-dcfa62ebcec1"
      },
      "outputs": [
        {
          "name": "stdout",
          "output_type": "stream",
          "text": [
            "[[8. 6.]\n",
            " [2. 4.]]\n",
            "[[0. 2.]\n",
            " [1. 5.]]\n"
          ]
        }
      ],
      "source": [
        "output = (data - mean) / std\n",
        "print(data[0,0,:,:])\n",
        "print(data[0,1,:,:])"
      ]
    },
    {
      "cell_type": "code",
      "execution_count": null,
      "id": "a347ef11",
      "metadata": {
        "id": "a347ef11"
      },
      "outputs": [],
      "source": []
    },
    {
      "cell_type": "code",
      "execution_count": null,
      "id": "f5d81833-2451-4b7d-b6ba-aa7343273f8b",
      "metadata": {
        "id": "f5d81833-2451-4b7d-b6ba-aa7343273f8b"
      },
      "outputs": [],
      "source": []
    }
  ],
  "metadata": {
    "kernelspec": {
      "display_name": "Python 3 (ipykernel)",
      "language": "python",
      "name": "python3"
    },
    "language_info": {
      "codemirror_mode": {
        "name": "ipython",
        "version": 3
      },
      "file_extension": ".py",
      "mimetype": "text/x-python",
      "name": "python",
      "nbconvert_exporter": "python",
      "pygments_lexer": "ipython3",
      "version": "3.11.5"
    },
    "colab": {
      "provenance": []
    }
  },
  "nbformat": 4,
  "nbformat_minor": 5
}