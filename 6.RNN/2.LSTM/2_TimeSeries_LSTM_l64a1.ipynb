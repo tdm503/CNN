{
  "cells": [
    {
      "cell_type": "markdown",
      "metadata": {
        "id": "DOp52vtSXOvb"
      },
      "source": [
        "# **Packages**"
      ]
    },
    {
      "cell_type": "code",
      "execution_count": null,
      "metadata": {
        "id": "28CDg5PO7TZf"
      },
      "outputs": [],
      "source": [
        "import pandas as pd\n",
        "import numpy as np\n",
        "import torch\n",
        "import torch.nn as nn\n",
        "from torch.utils.data import DataLoader, TensorDataset\n",
        "from sklearn.metrics import r2_score, mean_absolute_error, mean_squared_error\n",
        "import matplotlib.pyplot as plt\n",
        "\n",
        "device = 'cuda'"
      ]
    },
    {
      "cell_type": "markdown",
      "metadata": {
        "id": "2qzWcf3dXSGo"
      },
      "source": [
        "# **Model**"
      ]
    },
    {
      "cell_type": "code",
      "execution_count": null,
      "metadata": {
        "id": "J6OMrIrA77uJ"
      },
      "outputs": [],
      "source": [
        "class LSTMModel(nn.Module):\n",
        "    def __init__(self, hidden_dim, output_dim):\n",
        "        super(LSTMModel, self).__init__()\n",
        "        self.lstm = nn.LSTM(1, hidden_dim, batch_first=True)\n",
        "        self.fc = nn.Linear(hidden_dim, output_dim)\n",
        "\n",
        "    def forward(self, x):\n",
        "        output_lstm, (hidden_lstm, cell_lstm) = self.lstm(x)\n",
        "        last_hidden = hidden_lstm[-1,:,:]\n",
        "        output = self.fc(last_hidden)\n",
        "        return output"
      ]
    },
    {
      "cell_type": "markdown",
      "metadata": {
        "id": "W2M19FvQXiCL"
      },
      "source": [
        "# **Utils**"
      ]
    },
    {
      "cell_type": "code",
      "execution_count": null,
      "metadata": {
        "id": "RCUTgNYq7vfn"
      },
      "outputs": [],
      "source": [
        "def create_sequences(data, lag, ahead):\n",
        "    \"\"\"\n",
        "    Create sequences from time series data for use in time series forecasting.\n",
        "\n",
        "    Parameters:\n",
        "    - data (array-like): The time series data as a list or numpy array.\n",
        "    - lag (int): The number of data points in each input sequence.\n",
        "    - ahead (int): The number of data points to predict in the future.\n",
        "\n",
        "    Returns:\n",
        "    - X (numpy.ndarray): A 2D array of shape (num_sequences, lag) containing the input sequences.\n",
        "    - y (numpy.ndarray): A 2D array of shape (num_sequences, ahead) containing the corresponding labels.\n",
        "    \"\"\"\n",
        "    X, y = [], []\n",
        "    for i in range(len(data) - lag - ahead + 1):\n",
        "        X.append(data[i:(i + lag)])\n",
        "        y.append(data[(i + lag):(i + lag + ahead)])\n",
        "    return np.array(X), np.array(y)\n",
        "\n",
        "def prepare_data(data, lag, ahead, train_ratio, batch_size):\n",
        "    \"\"\"\n",
        "    Prepare the data for the Conv1D model training.\n",
        "\n",
        "    Parameters:\n",
        "    - data: The raw time series data.\n",
        "    - lag: The number of time steps to use for predictions.\n",
        "    - ahead: The number of time steps ahead to predict.\n",
        "    - train_ratio: The ratio of the dataset to include in the train split.\n",
        "    - batch_size: The size of the batch for the DataLoader.\n",
        "\n",
        "    Returns:\n",
        "    - train_loader: DataLoader for the training set.\n",
        "    - X_test_tensor: PyTorch tensor for the test features.\n",
        "    - y_test_tensor: PyTorch tensor for the test labels.\n",
        "    \"\"\"\n",
        "    # Create sequences\n",
        "    X, y = create_sequences(data, lag, ahead)\n",
        "\n",
        "    # Flatten all the features of a sample for LSTM\n",
        "    X = X.reshape(X.shape[0], -1, 1)\n",
        "\n",
        "    # Split the data\n",
        "    train_size = int(len(X) * train_ratio)\n",
        "    X_train, X_test = X[:train_size], X[train_size:]\n",
        "    y_train, y_test = y[:train_size], y[train_size:]\n",
        "\n",
        "    # Convert to PyTorch tensors\n",
        "    X_train_tensor = torch.tensor(X_train, dtype=torch.float32)\n",
        "    y_train_tensor = torch.tensor(y_train, dtype=torch.float32)\n",
        "    X_test_tensor = torch.tensor(X_test, dtype=torch.float32)\n",
        "    y_test_tensor = torch.tensor(y_test, dtype=torch.float32)\n",
        "\n",
        "    # DataLoader\n",
        "    train_data = TensorDataset(X_train_tensor, y_train_tensor)\n",
        "    train_loader = DataLoader(train_data, batch_size=batch_size, shuffle=True)\n",
        "\n",
        "    return train_loader, X_test_tensor, y_test_tensor\n",
        "\n",
        "def train_model(model, criterion, optimizer, train_loader, num_epochs):\n",
        "    \"\"\"\n",
        "    Train the MLP model.\n",
        "\n",
        "    Parameters:\n",
        "    - model: The PyTorch model to train.\n",
        "    - criterion: The loss function.\n",
        "    - optimizer: The optimization algorithm.\n",
        "    - train_loader: DataLoader for the training set.\n",
        "    - num_epochs: The number of epochs to train for.\n",
        "\n",
        "    Returns:\n",
        "    - model: The trained model.\n",
        "    - losses: A list of loss values per epoch.\n",
        "    \"\"\"\n",
        "    losses = []\n",
        "    for epoch in range(num_epochs):\n",
        "        model.train()\n",
        "        running_loss = 0.0\n",
        "        for i, (sequences, labels) in enumerate(train_loader):\n",
        "            sequences, labels = sequences.to(device), labels.to(device)\n",
        "\n",
        "            # Forward pass\n",
        "            outputs = model(sequences)\n",
        "            loss = criterion(outputs, labels)\n",
        "\n",
        "            # Backward and optimize\n",
        "            optimizer.zero_grad()\n",
        "            loss.backward()\n",
        "            optimizer.step()\n",
        "\n",
        "            running_loss += loss.item()\n",
        "\n",
        "        epoch_loss = running_loss / len(train_loader)\n",
        "        losses.append(epoch_loss)\n",
        "        print(f'Epoch [{epoch+1}/{num_epochs}], Loss: {epoch_loss:.4f}')\n",
        "\n",
        "    return model, losses\n",
        "\n",
        "def evaluate_model(model, X_test_tensor, y_test_tensor, ahead):\n",
        "    \"\"\"\n",
        "    Evaluate the MLP model.\n",
        "\n",
        "    Parameters:\n",
        "    - model: The PyTorch model to evaluate.\n",
        "    - X_test_tensor: PyTorch tensor for the test features.\n",
        "    - y_test_tensor: PyTorch tensor for the test labels.\n",
        "    - ahead: The number of time steps ahead that the model predicts.\n",
        "\n",
        "    Returns:\n",
        "    - r2: R-squared score.\n",
        "    - mae: Mean Absolute Error.\n",
        "    - mse: Mean Squared Error.\n",
        "    \"\"\"\n",
        "    model.eval()\n",
        "    with torch.no_grad():\n",
        "        X_test_tensor = X_test_tensor.to(device)\n",
        "\n",
        "        predictions = model(X_test_tensor)\n",
        "        predictions = predictions.view(-1, ahead).cpu()  # Reshape predictions to match y_test\n",
        "        y_test = y_test_tensor.numpy()\n",
        "        print(f'{predictions.shape = }')\n",
        "        print(f'{y_test.shape = }')\n",
        "\n",
        "        r2 = r2_score(y_test, predictions)\n",
        "        mae = mean_absolute_error(y_test, predictions)\n",
        "        mse = mean_squared_error(y_test, predictions)\n",
        "\n",
        "    print(f'R2 Score: {r2}')\n",
        "    print(f'MAE: {mae}')\n",
        "    print(f'MSE: {mse}')\n",
        "\n",
        "    return r2, mae, mse\n",
        "\n",
        "def plot_losses(losses):\n",
        "    \"\"\"\n",
        "    Plot the training losses.\n",
        "\n",
        "    Parameters:\n",
        "    - losses: A list of loss values per epoch.\n",
        "    \"\"\"\n",
        "    plt.plot(losses, label='Training loss')\n",
        "    plt.xlabel('Epoch')\n",
        "    plt.ylabel('Loss')\n",
        "    plt.legend()\n",
        "    plt.show()"
      ]
    },
    {
      "cell_type": "markdown",
      "metadata": {
        "id": "hs2lSDuUXEwQ"
      },
      "source": [
        "# **Data**"
      ]
    },
    {
      "cell_type": "code",
      "execution_count": null,
      "metadata": {
        "id": "Bil8Fo5k7XZI"
      },
      "outputs": [],
      "source": [
        "df = pd.read_csv('temp.csv')\n",
        "data = df['Temperature (C)'].values"
      ]
    },
    {
      "cell_type": "markdown",
      "metadata": {
        "id": "4BctkjDn9SHa"
      },
      "source": [
        "# **Config**"
      ]
    },
    {
      "cell_type": "code",
      "execution_count": null,
      "metadata": {
        "id": "TYjwDrLi9SQc"
      },
      "outputs": [],
      "source": [
        "num_epochs = 20\n",
        "train_ratio = 0.8\n",
        "batch_size = 64\n",
        "lr = 0.001"
      ]
    },
    {
      "cell_type": "code",
      "execution_count": null,
      "metadata": {
        "id": "OQZTwuf6b-XK"
      },
      "outputs": [],
      "source": [
        "lag = 64\n",
        "ahead = 1\n",
        "hidden_dim = 32"
      ]
    },
    {
      "cell_type": "code",
      "execution_count": null,
      "metadata": {
        "id": "3rGn1zGbqFBU"
      },
      "outputs": [],
      "source": []
    },
    {
      "cell_type": "markdown",
      "metadata": {
        "id": "rQv2COoWdaYD"
      },
      "source": [
        "# **Train**"
      ]
    },
    {
      "cell_type": "code",
      "execution_count": null,
      "metadata": {
        "colab": {
          "base_uri": "https://localhost:8080/"
        },
        "id": "c_Ntgf8xcCwa",
        "outputId": "06c47757-f543-4a9a-fe01-888228730d29"
      },
      "outputs": [
        {
          "name": "stdout",
          "output_type": "stream",
          "text": [
            "Epoch [1/20], Loss: 43.9343\n",
            "Epoch [2/20], Loss: 3.6112\n",
            "Epoch [3/20], Loss: 2.0759\n",
            "Epoch [4/20], Loss: 1.7963\n",
            "Epoch [5/20], Loss: 1.6974\n",
            "Epoch [6/20], Loss: 1.6533\n",
            "Epoch [7/20], Loss: 1.6349\n",
            "Epoch [8/20], Loss: 1.6183\n",
            "Epoch [9/20], Loss: 1.6000\n",
            "Epoch [10/20], Loss: 1.5958\n",
            "Epoch [11/20], Loss: 1.5876\n",
            "Epoch [12/20], Loss: 1.5806\n",
            "Epoch [13/20], Loss: 1.5745\n",
            "Epoch [14/20], Loss: 1.5667\n",
            "Epoch [15/20], Loss: 1.5647\n",
            "Epoch [16/20], Loss: 1.5501\n",
            "Epoch [17/20], Loss: 1.5527\n",
            "Epoch [18/20], Loss: 1.5474\n",
            "Epoch [19/20], Loss: 1.5396\n",
            "Epoch [20/20], Loss: 1.5340\n"
          ]
        }
      ],
      "source": [
        "train_loader, X_test_tensor, y_test_tensor = prepare_data(data, lag, ahead, train_ratio, batch_size)\n",
        "model = LSTMModel(hidden_dim=hidden_dim, output_dim=ahead)\n",
        "model.to(device)\n",
        "\n",
        "criterion = nn.MSELoss()\n",
        "optimizer = torch.optim.Adam(model.parameters(), lr=lr)\n",
        "model, losses = train_model(model, criterion, optimizer, train_loader, num_epochs)"
      ]
    },
    {
      "cell_type": "markdown",
      "metadata": {
        "id": "S-ZnnNQydfEd"
      },
      "source": [
        "# **Evaluate**"
      ]
    },
    {
      "cell_type": "code",
      "execution_count": null,
      "metadata": {
        "colab": {
          "base_uri": "https://localhost:8080/"
        },
        "id": "SDREDvSudh8j",
        "outputId": "67cc32ba-899f-43fa-cc4f-4e4e9b51f309"
      },
      "outputs": [
        {
          "name": "stdout",
          "output_type": "stream",
          "text": [
            "predictions.shape = torch.Size([19278, 1])\n",
            "y_test.shape = (19278, 1)\n",
            "R2 Score: 0.9868264305694926\n",
            "MAE: 0.6701311469078064\n",
            "MSE: 1.0624663829803467\n"
          ]
        }
      ],
      "source": [
        "r2, mae, mse = evaluate_model(model, X_test_tensor, y_test_tensor, ahead)"
      ]
    },
    {
      "cell_type": "markdown",
      "metadata": {
        "id": "KrYfgtJqdiwk"
      },
      "source": [
        "# **Plot**"
      ]
    },
    {
      "cell_type": "code",
      "execution_count": null,
      "metadata": {
        "colab": {
          "base_uri": "https://localhost:8080/",
          "height": 449
        },
        "id": "iCmF7mosdVoc",
        "outputId": "4eaf9733-3a15-479c-d87f-33b9cbc58e23"
      },
      "outputs": [
        {
          "data": {
            "image/png": "[encoded data removed]",
            "text/plain": [
              "<Figure size 640x480 with 1 Axes>"
            ]
          },
          "metadata": {},
          "output_type": "display_data"
        }
      ],
      "source": [
        "plot_losses(losses)"
      ]
    },
    {
      "cell_type": "code",
      "execution_count": null,
      "metadata": {
        "id": "L9z039b7qFBW"
      },
      "outputs": [],
      "source": []
    },
    {
      "cell_type": "code",
      "execution_count": null,
      "metadata": {
        "id": "5ifLsEhlqFBW",
        "outputId": "c807a827-7feb-4af8-a3d7-59e45190d4b8"
      },
      "outputs": [
        {
          "name": "stdout",
          "output_type": "stream",
          "text": [
            "(19278, 1)\n",
            "(19278, 1)\n"
          ]
        }
      ],
      "source": [
        "X_test_tensor = X_test_tensor.to(device)\n",
        "predictions = model(X_test_tensor).cpu()\n",
        "predictions = predictions.detach().numpy()\n",
        "y_test = y_test_tensor.numpy()\n",
        "\n",
        "print(predictions.shape)\n",
        "print(y_test.shape)"
      ]
    },
    {
      "cell_type": "code",
      "execution_count": null,
      "metadata": {
        "id": "zb-XXLhhqFBW",
        "outputId": "eea8320d-6fd6-4e51-f702-64f29be38a34"
      },
      "outputs": [
        {
          "data": {
            "image/png": "[encoded data removed]",
            "text/plain": [
              "<Figure size 640x480 with 1 Axes>"
            ]
          },
          "metadata": {},
          "output_type": "display_data"
        }
      ],
      "source": [
        "plt.plot(predictions[:500,0], 'r', label='predictions')\n",
        "plt.plot(y_test[:500,0], 'g', label='y_test')\n",
        "\n",
        "plt.xlabel('time')\n",
        "plt.ylabel('value')\n",
        "plt.legend()\n",
        "plt.show()"
      ]
    },
    {
      "cell_type": "code",
      "execution_count": null,
      "metadata": {
        "id": "Gt4sLClaqFBW"
      },
      "outputs": [],
      "source": []
    }
  ],
  "metadata": {
    "colab": {
      "provenance": []
    },
    "kernelspec": {
      "display_name": "Python 3 (ipykernel)",
      "language": "python",
      "name": "python3"
    },
    "language_info": {
      "codemirror_mode": {
        "name": "ipython",
        "version": 3
      },
      "file_extension": ".py",
      "mimetype": "text/x-python",
      "name": "python",
      "nbconvert_exporter": "python",
      "pygments_lexer": "ipython3",
      "version": "3.11.5"
    }
  },
  "nbformat": 4,
  "nbformat_minor": 0
}