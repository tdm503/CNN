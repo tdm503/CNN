{
  "nbformat": 4,
  "nbformat_minor": 0,
  "metadata": {
    "colab": {
      "provenance": []
    },
    "kernelspec": {
      "name": "python3",
      "display_name": "Python 3"
    },
    "language_info": {
      "name": "python"
    }
  },
  "cells": [
    {
      "cell_type": "code",
      "source": [
        "import torch\n",
        "import torch.nn as nn\n",
        "block1 = nn.Sequential(\n",
        "    nn.Conv2d(in_channels=1,out_channels=64,kernel_size=3,padding='same'),\n",
        "    nn.ReLU(inplace=True),\n",
        "    nn.Conv2d(64,64,3,'same'),\n",
        "    nn.ReLU(inplace=True),\n",
        "    nn.MaxPool2d(kernel_size=2,stride=2)\n",
        ")\n",
        "\n",
        "\n",
        "block2 = nn.Sequential(\n",
        "    nn.Conv2d(in_channels=64,out_channels=128,kernel_size=3,padding='same'),\n",
        "    nn.ReLU(inplace=True),\n",
        "    nn.Conv2d(in_channels=128,out_channels=128,kernel_size=3,padding='same'),\n",
        "    nn.ReLU(inplace=True),\n",
        "    nn.MaxPool2d(kernel_size=2,stride=2)\n",
        ")\n",
        "\n",
        "\n",
        "block3 = nn.Sequential(\n",
        "    nn.Conv2d(in_channels=128,out_channels=256,kernel_size=3,padding='same'),\n",
        "    nn.ReLU(inplace=True),\n",
        "    nn.Conv2d(in_channels=256,out_channels=256,kernel_size=3,padding='same'),\n",
        "    nn.ReLU(inplace=True),\n",
        "    nn.Conv2d(in_channels=256,out_channels=256,kernel_size=3,padding='same'),\n",
        "    nn.ReLU(inplace=True),\n",
        "    nn.MaxPool2d(kernel_size=2,stride=2)\n",
        ")\n",
        "\n",
        "\n",
        "block4 = nn.Sequential(\n",
        "    nn.Conv2d(in_channels=256,out_channels=512,kernel_size=3,padding='same'),\n",
        "    nn.ReLU(inplace=True),\n",
        "    nn.Conv2d(in_channels=512,out_channels=512,kernel_size=3,padding='same'),\n",
        "    nn.ReLU(inplace=True),\n",
        "    nn.Conv2d(in_channels=512,out_channels=512,kernel_size=3,padding='same'),\n",
        "    nn.ReLU(inplace=True),\n",
        "    nn.MaxPool2d(kernel_size=2,stride=2)\n",
        ")\n",
        "\n",
        "\n",
        "block5 = nn.Sequential(\n",
        "    nn.Conv2d(in_channels=512,out_channels=512,kernel_size=3,padding='same'),\n",
        "    nn.ReLU(inplace=True),\n",
        "    nn.Conv2d(in_channels=512,out_channels=512,kernel_size=3,padding='same'),\n",
        "    nn.ReLU(inplace=True),\n",
        "    nn.Conv2d(in_channels=512,out_channels=512,kernel_size=3,padding='same'),\n",
        "    nn.ReLU(inplace=True),\n",
        "    nn.MaxPool2d(2,2)\n",
        "\n",
        ")\n",
        "\n",
        "classifier = nn.Sequential(\n",
        "    nn.Flatten(),\n",
        "    nn.Linear(512*7*7,4096),nn.ReLU(inplace=True),\n",
        "    nn.Linear(4096,4096),nn.ReLU(inplace=True),\n",
        "    nn.Linear(4096,1000),nn.ReLU(inplace=True),\n",
        "    nn.Linear(1000,10)\n",
        ")\n",
        "\n",
        "class vgg16(nn.Module):\n",
        "  def __init__(self):\n",
        "    super().__init__()\n",
        "    self.block1 = block1\n",
        "    self.block2 = block2\n",
        "    self.block3 = block3\n",
        "    self.block4 = block4\n",
        "    self.block5 = block5\n",
        "    self.classifer = classifier\n",
        "  def forward(self,x):\n",
        "    x = self.block1(x)\n",
        "    x = self.block2(x)\n",
        "    x = self.block3(x)\n",
        "    x = self.block4(x)\n",
        "    x = self.block5(x)\n",
        "    x = self.classifier(x)\n",
        "    return x"
      ],
      "metadata": {
        "id": "hhIKdAiBYafO"
      },
      "execution_count": 5,
      "outputs": []
    },
    {
      "cell_type": "code",
      "source": [
        "from torchsummary import summary"
      ],
      "metadata": {
        "id": "2YSKtH38AQvA"
      },
      "execution_count": 2,
      "outputs": []
    },
    {
      "cell_type": "code",
      "source": [],
      "metadata": {
        "id": "84zDlf4TAewj"
      },
      "execution_count": null,
      "outputs": []
    },
    {
      "cell_type": "code",
      "source": [],
      "metadata": {
        "id": "tRB3xsFcB_T5"
      },
      "execution_count": null,
      "outputs": []
    }
  ]
}