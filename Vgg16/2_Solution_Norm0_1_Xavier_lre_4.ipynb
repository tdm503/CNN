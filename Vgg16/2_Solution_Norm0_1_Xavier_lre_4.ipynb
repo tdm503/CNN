{
  "cells": [
    {
      "cell_type": "code",
      "execution_count": 1,
      "id": "d4e45a49-974f-4f9c-8642-42e2c45aab71",
      "metadata": {
        "id": "d4e45a49-974f-4f9c-8642-42e2c45aab71"
      },
      "outputs": [],
      "source": [
        "import torch\n",
        "import torchvision.transforms as transforms\n",
        "import torch.nn as nn\n",
        "import torch.nn.functional as F\n",
        "import torch.nn.init as init\n",
        "\n",
        "import numpy as np\n",
        "import matplotlib.pyplot as plt\n",
        "\n",
        "from torchvision.datasets import CIFAR10\n",
        "from torch.utils.data import DataLoader\n",
        "from torch.optim import Adam\n",
        "import torchvision\n",
        "\n",
        "torch.manual_seed(1)\n",
        "device = 'cuda' if torch.cuda.is_available() else 'cpu'"
      ]
    },
    {
      "cell_type": "code",
      "execution_count": null,
      "id": "42432066-6cf0-416b-961a-adb1e3217204",
      "metadata": {
        "id": "42432066-6cf0-416b-961a-adb1e3217204"
      },
      "outputs": [],
      "source": []
    },
    {
      "cell_type": "markdown",
      "id": "f913360b-019e-4d69-a540-b7b5715544e1",
      "metadata": {
        "id": "f913360b-019e-4d69-a540-b7b5715544e1"
      },
      "source": [
        "## Data"
      ]
    },
    {
      "cell_type": "code",
      "execution_count": 2,
      "id": "3ad21976-2d99-49b7-b0b5-84e9ebcd371e",
      "metadata": {
        "id": "3ad21976-2d99-49b7-b0b5-84e9ebcd371e",
        "outputId": "7df19164-8695-4ccd-956f-8232edd648da",
        "colab": {
          "base_uri": "https://localhost:8080/"
        }
      },
      "outputs": [
        {
          "output_type": "stream",
          "name": "stdout",
          "text": [
            "Downloading https://www.cs.toronto.edu/~kriz/cifar-10-python.tar.gz to ./data/cifar-10-python.tar.gz\n"
          ]
        },
        {
          "output_type": "stream",
          "name": "stderr",
          "text": [
            "100%|██████████| 170498071/170498071 [00:04<00:00, 42141984.80it/s]\n"
          ]
        },
        {
          "output_type": "stream",
          "name": "stdout",
          "text": [
            "Extracting ./data/cifar-10-python.tar.gz to ./data\n",
            "Files already downloaded and verified\n"
          ]
        },
        {
          "output_type": "stream",
          "name": "stderr",
          "text": [
            "/usr/local/lib/python3.10/dist-packages/torch/utils/data/dataloader.py:557: UserWarning: This DataLoader will create 4 worker processes in total. Our suggested max number of worker in current system is 2, which is smaller than what this DataLoader is going to create. Please be aware that excessive worker creation might get DataLoader running slow or even freeze, lower the worker number to avoid potential slowness/freeze if necessary.\n",
            "  warnings.warn(_create_warning_msg(\n"
          ]
        }
      ],
      "source": [
        "batch_size = 256\n",
        "transform = transforms.Compose(\n",
        "    [\n",
        "        transforms.ToTensor()\n",
        "    ])\n",
        "\n",
        "train_set = CIFAR10(\n",
        "    root='./data',\n",
        "    train=True,\n",
        "    download=True,\n",
        "    transform=transform\n",
        ")\n",
        "\n",
        "val_set = CIFAR10(\n",
        "    root='./data',\n",
        "    train=False,\n",
        "    download=True,\n",
        "    transform=transform\n",
        ")\n",
        "\n",
        "trainloader = DataLoader(\n",
        "    train_set,\n",
        "    batch_size=batch_size,\n",
        "    shuffle=True,\n",
        "    num_workers=4\n",
        ")\n",
        "\n",
        "testloader = DataLoader(\n",
        "    val_set,\n",
        "    batch_size=batch_size,\n",
        "    shuffle=False,\n",
        "    num_workers=4\n",
        ")"
      ]
    },
    {
      "cell_type": "code",
      "execution_count": null,
      "id": "cf229497-4b6e-443d-b330-66b6fa139fcd",
      "metadata": {
        "id": "cf229497-4b6e-443d-b330-66b6fa139fcd"
      },
      "outputs": [],
      "source": []
    },
    {
      "cell_type": "markdown",
      "id": "6ea0dde8-29e7-4096-bd15-6a5ed74655f0",
      "metadata": {
        "id": "6ea0dde8-29e7-4096-bd15-6a5ed74655f0"
      },
      "source": [
        "## Model"
      ]
    },
    {
      "cell_type": "code",
      "execution_count": 3,
      "id": "667fc692-e195-4fe1-94c0-1fda94be7849",
      "metadata": {
        "id": "667fc692-e195-4fe1-94c0-1fda94be7849"
      },
      "outputs": [],
      "source": [
        "class CNNModel(nn.Module):\n",
        "    def __init__(self, n_classes=10):\n",
        "        super(CNNModel, self).__init__()\n",
        "        self.conv_layer1 = nn.Sequential(\n",
        "            nn.Conv2d(3, 64, 3, stride=1, padding='same'),\n",
        "            nn.ReLU()\n",
        "        )\n",
        "        self.conv_layer2 = nn.Sequential(\n",
        "            nn.Conv2d(64, 64, 3, stride=1, padding='same'),\n",
        "            nn.ReLU()\n",
        "        )\n",
        "        self.conv_layer3 = nn.Sequential(\n",
        "            nn.Conv2d(64, 64, 3, stride=1, padding='same'),\n",
        "            nn.ReLU(),\n",
        "            nn.MaxPool2d(2, 2)\n",
        "        )\n",
        "\n",
        "        self.conv_layer4 = nn.Sequential(\n",
        "            nn.Conv2d(64, 128, 3, stride=1, padding='same'),\n",
        "            nn.ReLU(),\n",
        "        )\n",
        "        self.conv_layer5 = nn.Sequential(\n",
        "            nn.Conv2d(128, 128, 3, stride=1, padding='same'),\n",
        "            nn.ReLU(),\n",
        "        )\n",
        "        self.conv_layer6 = nn.Sequential(\n",
        "            nn.Conv2d(128, 128, 3, stride=1, padding='same'),\n",
        "            nn.ReLU(),\n",
        "            nn.MaxPool2d(2, 2)\n",
        "        )\n",
        "\n",
        "        self.conv_layer7 = nn.Sequential(\n",
        "            nn.Conv2d(128, 256, 3, stride=1, padding='same'),\n",
        "            nn.ReLU(),\n",
        "        )\n",
        "        self.conv_layer8 = nn.Sequential(\n",
        "            nn.Conv2d(256, 256, 3, stride=1, padding='same'),\n",
        "            nn.ReLU(),\n",
        "        )\n",
        "        self.conv_layer9 = nn.Sequential(\n",
        "            nn.Conv2d(256, 256, 3, stride=1, padding='same'),\n",
        "            nn.ReLU(),\n",
        "            nn.MaxPool2d(2, 2)\n",
        "        )\n",
        "\n",
        "        self.conv_layer10 = nn.Sequential(\n",
        "            nn.Conv2d(256, 512, 3, stride=1, padding='same'),\n",
        "            nn.ReLU(),\n",
        "        )\n",
        "        self.conv_layer11 = nn.Sequential(\n",
        "            nn.Conv2d(512, 512, 3, stride=1, padding='same'),\n",
        "            nn.ReLU(),\n",
        "        )\n",
        "        self.conv_layer12 = nn.Sequential(\n",
        "            nn.Conv2d(512, 512, 3, stride=1, padding='same'),\n",
        "            nn.ReLU(),\n",
        "            nn.MaxPool2d(2, 2)\n",
        "        )\n",
        "\n",
        "        self.flatten = nn.Flatten()\n",
        "\n",
        "        self.fc_layer1 = nn.Sequential(\n",
        "            nn.Linear(512 * 2 * 2, 512),\n",
        "            nn.ReLU()\n",
        "        )\n",
        "        self.fc_layer2 = nn.Linear(512, n_classes)\n",
        "\n",
        "        # Initialize weights\n",
        "        self.initialize_weights()\n",
        "\n",
        "    def initialize_weights(self):\n",
        "        for m in self.modules():\n",
        "            if isinstance(m, nn.Conv2d):\n",
        "                init.xavier_uniform_(m.weight)\n",
        "                if m.bias is not None:\n",
        "                    init.zeros_(m.bias)\n",
        "            elif isinstance(m, nn.Linear):\n",
        "                init.xavier_uniform_(m.weight)\n",
        "                if m.bias is not None:\n",
        "                    init.zeros_(m.bias)\n",
        "\n",
        "    def forward(self, x):\n",
        "        x = self.conv_layer1(x)\n",
        "        x = self.conv_layer2(x)\n",
        "        x = self.conv_layer3(x)\n",
        "        x = self.conv_layer4(x)\n",
        "        x = self.conv_layer5(x)\n",
        "        x = self.conv_layer6(x)\n",
        "        x = self.conv_layer7(x)\n",
        "        x = self.conv_layer8(x)\n",
        "        x = self.conv_layer9(x)\n",
        "        x = self.conv_layer10(x)\n",
        "        x = self.conv_layer11(x)\n",
        "        x = self.conv_layer12(x)\n",
        "        x = self.flatten(x)\n",
        "        x = self.fc_layer1(x)\n",
        "        out = self.fc_layer2(x)\n",
        "\n",
        "        return out"
      ]
    },
    {
      "cell_type": "code",
      "execution_count": 4,
      "id": "81be3191-980a-4b94-8537-5dba83109866",
      "metadata": {
        "id": "81be3191-980a-4b94-8537-5dba83109866",
        "outputId": "c84cebe8-aa32-4abf-e016-991f0f3e9d95",
        "colab": {
          "base_uri": "https://localhost:8080/"
        }
      },
      "outputs": [
        {
          "output_type": "stream",
          "name": "stdout",
          "text": [
            "CNNModel(\n",
            "  (conv_layer1): Sequential(\n",
            "    (0): Conv2d(3, 64, kernel_size=(3, 3), stride=(1, 1), padding=same)\n",
            "    (1): ReLU()\n",
            "  )\n",
            "  (conv_layer2): Sequential(\n",
            "    (0): Conv2d(64, 64, kernel_size=(3, 3), stride=(1, 1), padding=same)\n",
            "    (1): ReLU()\n",
            "  )\n",
            "  (conv_layer3): Sequential(\n",
            "    (0): Conv2d(64, 64, kernel_size=(3, 3), stride=(1, 1), padding=same)\n",
            "    (1): ReLU()\n",
            "    (2): MaxPool2d(kernel_size=2, stride=2, padding=0, dilation=1, ceil_mode=False)\n",
            "  )\n",
            "  (conv_layer4): Sequential(\n",
            "    (0): Conv2d(64, 128, kernel_size=(3, 3), stride=(1, 1), padding=same)\n",
            "    (1): ReLU()\n",
            "  )\n",
            "  (conv_layer5): Sequential(\n",
            "    (0): Conv2d(128, 128, kernel_size=(3, 3), stride=(1, 1), padding=same)\n",
            "    (1): ReLU()\n",
            "  )\n",
            "  (conv_layer6): Sequential(\n",
            "    (0): Conv2d(128, 128, kernel_size=(3, 3), stride=(1, 1), padding=same)\n",
            "    (1): ReLU()\n",
            "    (2): MaxPool2d(kernel_size=2, stride=2, padding=0, dilation=1, ceil_mode=False)\n",
            "  )\n",
            "  (conv_layer7): Sequential(\n",
            "    (0): Conv2d(128, 256, kernel_size=(3, 3), stride=(1, 1), padding=same)\n",
            "    (1): ReLU()\n",
            "  )\n",
            "  (conv_layer8): Sequential(\n",
            "    (0): Conv2d(256, 256, kernel_size=(3, 3), stride=(1, 1), padding=same)\n",
            "    (1): ReLU()\n",
            "  )\n",
            "  (conv_layer9): Sequential(\n",
            "    (0): Conv2d(256, 256, kernel_size=(3, 3), stride=(1, 1), padding=same)\n",
            "    (1): ReLU()\n",
            "    (2): MaxPool2d(kernel_size=2, stride=2, padding=0, dilation=1, ceil_mode=False)\n",
            "  )\n",
            "  (conv_layer10): Sequential(\n",
            "    (0): Conv2d(256, 512, kernel_size=(3, 3), stride=(1, 1), padding=same)\n",
            "    (1): ReLU()\n",
            "  )\n",
            "  (conv_layer11): Sequential(\n",
            "    (0): Conv2d(512, 512, kernel_size=(3, 3), stride=(1, 1), padding=same)\n",
            "    (1): ReLU()\n",
            "  )\n",
            "  (conv_layer12): Sequential(\n",
            "    (0): Conv2d(512, 512, kernel_size=(3, 3), stride=(1, 1), padding=same)\n",
            "    (1): ReLU()\n",
            "    (2): MaxPool2d(kernel_size=2, stride=2, padding=0, dilation=1, ceil_mode=False)\n",
            "  )\n",
            "  (flatten): Flatten(start_dim=1, end_dim=-1)\n",
            "  (fc_layer1): Sequential(\n",
            "    (0): Linear(in_features=2048, out_features=512, bias=True)\n",
            "    (1): ReLU()\n",
            "  )\n",
            "  (fc_layer2): Linear(in_features=512, out_features=10, bias=True)\n",
            ")\n"
          ]
        }
      ],
      "source": [
        "model = CNNModel(10)\n",
        "\n",
        "model.to(device)\n",
        "print(model)"
      ]
    },
    {
      "cell_type": "code",
      "execution_count": null,
      "id": "c8516821-d41b-42a8-9e51-ddfb8f9ec87e",
      "metadata": {
        "id": "c8516821-d41b-42a8-9e51-ddfb8f9ec87e"
      },
      "outputs": [],
      "source": []
    },
    {
      "cell_type": "markdown",
      "id": "43c7b151-a199-4e2a-8015-fdfb5f166284",
      "metadata": {
        "id": "43c7b151-a199-4e2a-8015-fdfb5f166284"
      },
      "source": [
        "# Train"
      ]
    },
    {
      "cell_type": "code",
      "execution_count": 5,
      "id": "1464e2bd-b627-475d-9941-f2a930d69a14",
      "metadata": {
        "id": "1464e2bd-b627-475d-9941-f2a930d69a14"
      },
      "outputs": [],
      "source": [
        "criterion = nn.CrossEntropyLoss()\n",
        "optimizer = Adam(model.parameters(),\n",
        "                 lr=1e-4)"
      ]
    },
    {
      "cell_type": "code",
      "execution_count": 6,
      "id": "04744c84-1e6d-4bfb-8dd5-abbdc91f102e",
      "metadata": {
        "id": "04744c84-1e6d-4bfb-8dd5-abbdc91f102e"
      },
      "outputs": [],
      "source": [
        "# Function to compute loss and accuracy for test set\n",
        "def evaluate(model, testloader, criterion):\n",
        "    model.eval()\n",
        "    test_loss = 0.0\n",
        "    running_correct = 0\n",
        "    total = 0\n",
        "    with torch.no_grad():\n",
        "        for images, labels in testloader:\n",
        "            # Move inputs and labels to the device\n",
        "            images, labels = images.to(device), labels.to(device)\n",
        "\n",
        "            outputs = model(images)\n",
        "            loss = criterion(outputs, labels)\n",
        "            test_loss += loss.item()\n",
        "\n",
        "            _, predicted = torch.max(outputs.data, 1)\n",
        "            total += labels.size(0)\n",
        "            running_correct += (predicted == labels).sum().item()\n",
        "\n",
        "    accuracy = 100 * running_correct / total\n",
        "    test_loss = test_loss / len(testloader)\n",
        "    return test_loss, accuracy"
      ]
    },
    {
      "cell_type": "code",
      "execution_count": 7,
      "id": "f2402591-e7f7-4bdd-8962-c029cfcd9307",
      "metadata": {
        "id": "f2402591-e7f7-4bdd-8962-c029cfcd9307"
      },
      "outputs": [],
      "source": [
        "# some parameter\n",
        "train_losses = []\n",
        "train_accuracies = []\n",
        "test_losses = []\n",
        "test_accuracies = []\n",
        "max_epoch = 50"
      ]
    },
    {
      "cell_type": "code",
      "execution_count": 8,
      "id": "190a58e1-0864-4818-a8d2-0f83212c6d13",
      "metadata": {
        "id": "190a58e1-0864-4818-a8d2-0f83212c6d13",
        "outputId": "58d1323b-0992-48e4-f050-d38850d002e3",
        "colab": {
          "base_uri": "https://localhost:8080/"
        }
      },
      "outputs": [
        {
          "output_type": "stream",
          "name": "stdout",
          "text": [
            "Epoch [1/50], Loss: 1.8681, Accuracy: 29.46%, Test Loss: 1.5915, Test Accuracy: 40.89%\n",
            "Epoch [2/50], Loss: 1.5044, Accuracy: 43.90%, Test Loss: 1.4277, Test Accuracy: 47.36%\n",
            "Epoch [3/50], Loss: 1.3116, Accuracy: 51.56%, Test Loss: 1.2104, Test Accuracy: 55.86%\n",
            "Epoch [4/50], Loss: 1.1796, Accuracy: 57.19%, Test Loss: 1.1260, Test Accuracy: 59.79%\n",
            "Epoch [5/50], Loss: 1.0675, Accuracy: 61.44%, Test Loss: 1.1278, Test Accuracy: 59.24%\n",
            "Epoch [6/50], Loss: 0.9845, Accuracy: 64.71%, Test Loss: 1.0104, Test Accuracy: 64.00%\n",
            "Epoch [7/50], Loss: 0.9151, Accuracy: 67.02%, Test Loss: 0.9301, Test Accuracy: 66.91%\n",
            "Epoch [8/50], Loss: 0.8559, Accuracy: 69.27%, Test Loss: 0.8744, Test Accuracy: 69.01%\n",
            "Epoch [9/50], Loss: 0.7872, Accuracy: 71.78%, Test Loss: 0.9006, Test Accuracy: 67.92%\n",
            "Epoch [10/50], Loss: 0.7365, Accuracy: 73.71%, Test Loss: 0.8728, Test Accuracy: 68.98%\n",
            "Epoch [11/50], Loss: 0.6861, Accuracy: 75.54%, Test Loss: 0.8362, Test Accuracy: 70.74%\n",
            "Epoch [12/50], Loss: 0.6574, Accuracy: 76.72%, Test Loss: 0.8094, Test Accuracy: 71.45%\n",
            "Epoch [13/50], Loss: 0.5992, Accuracy: 78.81%, Test Loss: 0.7341, Test Accuracy: 74.03%\n",
            "Epoch [14/50], Loss: 0.5576, Accuracy: 79.92%, Test Loss: 0.7520, Test Accuracy: 74.11%\n",
            "Epoch [15/50], Loss: 0.5192, Accuracy: 81.66%, Test Loss: 0.7827, Test Accuracy: 73.31%\n",
            "Epoch [16/50], Loss: 0.4735, Accuracy: 83.26%, Test Loss: 0.7171, Test Accuracy: 75.57%\n",
            "Epoch [17/50], Loss: 0.4201, Accuracy: 85.15%, Test Loss: 0.7698, Test Accuracy: 74.11%\n",
            "Epoch [18/50], Loss: 0.3858, Accuracy: 86.34%, Test Loss: 0.7429, Test Accuracy: 76.10%\n",
            "Epoch [19/50], Loss: 0.3440, Accuracy: 87.65%, Test Loss: 0.7724, Test Accuracy: 75.03%\n",
            "Epoch [20/50], Loss: 0.3030, Accuracy: 89.23%, Test Loss: 0.7698, Test Accuracy: 76.59%\n",
            "Epoch [21/50], Loss: 0.2643, Accuracy: 90.60%, Test Loss: 0.8594, Test Accuracy: 75.08%\n",
            "Epoch [22/50], Loss: 0.2237, Accuracy: 91.88%, Test Loss: 0.8682, Test Accuracy: 75.68%\n",
            "Epoch [23/50], Loss: 0.1912, Accuracy: 93.18%, Test Loss: 0.9373, Test Accuracy: 74.53%\n",
            "Epoch [24/50], Loss: 0.1698, Accuracy: 93.87%, Test Loss: 0.9165, Test Accuracy: 76.77%\n",
            "Epoch [25/50], Loss: 0.1452, Accuracy: 94.75%, Test Loss: 1.1090, Test Accuracy: 75.26%\n",
            "Epoch [26/50], Loss: 0.1221, Accuracy: 95.65%, Test Loss: 1.0947, Test Accuracy: 75.39%\n",
            "Epoch [27/50], Loss: 0.1152, Accuracy: 95.94%, Test Loss: 1.0353, Test Accuracy: 77.12%\n",
            "Epoch [28/50], Loss: 0.0976, Accuracy: 96.56%, Test Loss: 1.0632, Test Accuracy: 75.79%\n",
            "Epoch [29/50], Loss: 0.0735, Accuracy: 97.47%, Test Loss: 1.1645, Test Accuracy: 76.36%\n",
            "Epoch [30/50], Loss: 0.0653, Accuracy: 97.76%, Test Loss: 1.2810, Test Accuracy: 75.16%\n",
            "Epoch [31/50], Loss: 0.0664, Accuracy: 97.68%, Test Loss: 1.2308, Test Accuracy: 76.46%\n",
            "Epoch [32/50], Loss: 0.0541, Accuracy: 98.19%, Test Loss: 1.2772, Test Accuracy: 76.17%\n",
            "Epoch [33/50], Loss: 0.0540, Accuracy: 98.13%, Test Loss: 1.3193, Test Accuracy: 76.21%\n",
            "Epoch [34/50], Loss: 0.0496, Accuracy: 98.28%, Test Loss: 1.4345, Test Accuracy: 76.50%\n",
            "Epoch [35/50], Loss: 0.0587, Accuracy: 97.93%, Test Loss: 1.4661, Test Accuracy: 75.88%\n",
            "Epoch [36/50], Loss: 0.0472, Accuracy: 98.37%, Test Loss: 1.2735, Test Accuracy: 76.37%\n",
            "Epoch [37/50], Loss: 0.0475, Accuracy: 98.32%, Test Loss: 1.2733, Test Accuracy: 76.75%\n",
            "Epoch [38/50], Loss: 0.0412, Accuracy: 98.65%, Test Loss: 1.3895, Test Accuracy: 76.42%\n",
            "Epoch [39/50], Loss: 0.0396, Accuracy: 98.65%, Test Loss: 1.4202, Test Accuracy: 76.84%\n",
            "Epoch [40/50], Loss: 0.0372, Accuracy: 98.72%, Test Loss: 1.4043, Test Accuracy: 77.17%\n",
            "Epoch [41/50], Loss: 0.0450, Accuracy: 98.42%, Test Loss: 1.3150, Test Accuracy: 76.73%\n",
            "Epoch [42/50], Loss: 0.0391, Accuracy: 98.65%, Test Loss: 1.4221, Test Accuracy: 77.73%\n",
            "Epoch [43/50], Loss: 0.0307, Accuracy: 98.90%, Test Loss: 1.3930, Test Accuracy: 76.77%\n",
            "Epoch [44/50], Loss: 0.0444, Accuracy: 98.47%, Test Loss: 1.3425, Test Accuracy: 77.28%\n",
            "Epoch [45/50], Loss: 0.0302, Accuracy: 98.95%, Test Loss: 1.4495, Test Accuracy: 77.19%\n",
            "Epoch [46/50], Loss: 0.0418, Accuracy: 98.58%, Test Loss: 1.3400, Test Accuracy: 77.07%\n",
            "Epoch [47/50], Loss: 0.0250, Accuracy: 99.11%, Test Loss: 1.4539, Test Accuracy: 76.82%\n",
            "Epoch [48/50], Loss: 0.0416, Accuracy: 98.53%, Test Loss: 1.5102, Test Accuracy: 77.00%\n",
            "Epoch [49/50], Loss: 0.0293, Accuracy: 99.01%, Test Loss: 1.5270, Test Accuracy: 77.25%\n",
            "Epoch [50/50], Loss: 0.0417, Accuracy: 98.54%, Test Loss: 1.3960, Test Accuracy: 76.60%\n"
          ]
        }
      ],
      "source": [
        "# train\n",
        "for epoch in range(max_epoch):\n",
        "    model.train()\n",
        "    running_loss = 0.0\n",
        "    running_correct = 0   # to track number of correct predictions\n",
        "    total = 0             # to track total number of samples\n",
        "\n",
        "    for i, (inputs, labels) in enumerate(trainloader, 0):\n",
        "        # Move inputs and labels to the device\n",
        "        inputs, labels = inputs.to(device), labels.to(device)\n",
        "\n",
        "        # Zero the parameter gradients\n",
        "        optimizer.zero_grad()\n",
        "\n",
        "        # Forward pass\n",
        "        outputs = model(inputs)\n",
        "        loss = criterion(outputs, labels)\n",
        "        running_loss += loss.item()\n",
        "\n",
        "        # Backward pass and optimization\n",
        "        loss.backward()\n",
        "        optimizer.step()\n",
        "\n",
        "        # Determine class predictions and track accuracy\n",
        "        _, predicted = torch.max(outputs.data, 1)\n",
        "        total += labels.size(0)\n",
        "        running_correct += (predicted == labels).sum().item()\n",
        "\n",
        "\n",
        "    epoch_accuracy = 100 * running_correct / total\n",
        "    epoch_loss = running_loss / (i + 1)\n",
        "\n",
        "    test_loss, test_accuracy = evaluate(model, testloader, criterion)\n",
        "    print(f\"Epoch [{epoch + 1}/{max_epoch}], Loss: {epoch_loss:.4f}, Accuracy: {epoch_accuracy:.2f}%, Test Loss: {test_loss:.4f}, Test Accuracy: {test_accuracy:.2f}%\")\n",
        "\n",
        "    # save for plot\n",
        "    train_losses.append(epoch_loss)\n",
        "    train_accuracies.append(epoch_accuracy)\n",
        "    test_losses.append(test_loss)\n",
        "    test_accuracies.append(test_accuracy)"
      ]
    },
    {
      "cell_type": "code",
      "execution_count": null,
      "id": "cebcb439-88f2-40b6-9a17-4990ad324731",
      "metadata": {
        "id": "cebcb439-88f2-40b6-9a17-4990ad324731"
      },
      "outputs": [],
      "source": []
    },
    {
      "cell_type": "code",
      "execution_count": null,
      "id": "DkC3_902Lgn-",
      "metadata": {
        "id": "DkC3_902Lgn-",
        "outputId": "d72c4c38-ec5a-4293-fa8d-3e3121365785"
      },
      "outputs": [
        {
          "data": {
            "text/plain": [
              "<matplotlib.legend.Legend at 0x7f32d53cead0>"
            ]
          },
          "execution_count": 9,
          "metadata": {},
          "output_type": "execute_result"
        },
        {
          "data": {
            "image/png": "[encoded data removed]",
            "text/plain": [
              "<Figure size 640x480 with 1 Axes>"
            ]
          },
          "metadata": {},
          "output_type": "display_data"
        }
      ],
      "source": [
        "import matplotlib.pyplot as plt\n",
        "\n",
        "plt.plot(train_losses, label='train_losses')\n",
        "plt.plot(test_losses, label='test_losses')\n",
        "plt.legend()"
      ]
    },
    {
      "cell_type": "code",
      "execution_count": null,
      "id": "794f4e81",
      "metadata": {
        "id": "794f4e81",
        "outputId": "35d5b1c6-8b59-48cf-d6ec-6ce75dd55db7"
      },
      "outputs": [
        {
          "data": {
            "text/plain": [
              "<matplotlib.legend.Legend at 0x7f32cc1dab90>"
            ]
          },
          "execution_count": 10,
          "metadata": {},
          "output_type": "execute_result"
        },
        {
          "data": {
            "image/png": "[encoded data removed]",
            "text/plain": [
              "<Figure size 640x480 with 1 Axes>"
            ]
          },
          "metadata": {},
          "output_type": "display_data"
        }
      ],
      "source": [
        "import matplotlib.pyplot as plt\n",
        "\n",
        "plt.plot(train_accuracies, label='train_accuracy')\n",
        "plt.plot(test_accuracies, label='test_accuracy')\n",
        "plt.legend()"
      ]
    },
    {
      "cell_type": "code",
      "execution_count": null,
      "id": "a2ec7c96-ff05-4863-92e7-c45f2f0e3d03",
      "metadata": {
        "id": "a2ec7c96-ff05-4863-92e7-c45f2f0e3d03"
      },
      "outputs": [],
      "source": []
    },
    {
      "cell_type": "code",
      "execution_count": null,
      "id": "8c86325e-7b6c-43a6-b315-93e02bcdb264",
      "metadata": {
        "id": "8c86325e-7b6c-43a6-b315-93e02bcdb264"
      },
      "outputs": [],
      "source": []
    },
    {
      "cell_type": "code",
      "execution_count": null,
      "id": "d2a401f6-9ed4-4dee-9e95-f65826e2d92d",
      "metadata": {
        "id": "d2a401f6-9ed4-4dee-9e95-f65826e2d92d",
        "outputId": "c6850aec-f672-4cef-f780-10aa2fef7e44"
      },
      "outputs": [
        {
          "data": {
            "text/plain": [
              "<matplotlib.legend.Legend at 0x7f327026dbd0>"
            ]
          },
          "execution_count": 11,
          "metadata": {},
          "output_type": "execute_result"
        }
      ],
      "source": [
        "import matplotlib.pyplot as plt\n",
        "%matplotlib qt\n",
        "\n",
        "plt.plot(train_losses, label='train_losses')\n",
        "plt.plot(test_losses, label='test_losses')\n",
        "plt.legend()"
      ]
    },
    {
      "cell_type": "code",
      "execution_count": null,
      "id": "b4d1601e-a633-4f04-b476-7288856e1971",
      "metadata": {
        "id": "b4d1601e-a633-4f04-b476-7288856e1971",
        "outputId": "009df930-6621-48d8-f60d-1b3f816da687"
      },
      "outputs": [
        {
          "data": {
            "text/plain": [
              "<matplotlib.legend.Legend at 0x7f31dc6276a0>"
            ]
          },
          "execution_count": 12,
          "metadata": {},
          "output_type": "execute_result"
        }
      ],
      "source": [
        "import matplotlib.pyplot as plt\n",
        "%matplotlib qt\n",
        "\n",
        "plt.plot(train_accuracies, label='train_accuracy')\n",
        "plt.plot(test_accuracies, label='test_accuracy')\n",
        "plt.legend()"
      ]
    },
    {
      "cell_type": "code",
      "execution_count": null,
      "id": "37ca2943-4e11-49ec-ba79-42ad1f15d62d",
      "metadata": {
        "id": "37ca2943-4e11-49ec-ba79-42ad1f15d62d"
      },
      "outputs": [],
      "source": []
    }
  ],
  "metadata": {
    "accelerator": "GPU",
    "colab": {
      "provenance": []
    },
    "gpuClass": "standard",
    "kernelspec": {
      "display_name": "Python 3 (ipykernel)",
      "language": "python",
      "name": "python3"
    },
    "language_info": {
      "codemirror_mode": {
        "name": "ipython",
        "version": 3
      },
      "file_extension": ".py",
      "mimetype": "text/x-python",
      "name": "python",
      "nbconvert_exporter": "python",
      "pygments_lexer": "ipython3",
      "version": "3.9.18"
    }
  },
  "nbformat": 4,
  "nbformat_minor": 5
}