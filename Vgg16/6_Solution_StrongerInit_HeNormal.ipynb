{
  "cells": [
    {
      "cell_type": "code",
      "execution_count": null,
      "id": "d4e45a49-974f-4f9c-8642-42e2c45aab71",
      "metadata": {
        "id": "d4e45a49-974f-4f9c-8642-42e2c45aab71"
      },
      "outputs": [],
      "source": [
        "import torch\n",
        "import torchvision.transforms as transforms\n",
        "import torch.nn as nn\n",
        "import torch.nn.functional as F\n",
        "import torch.nn.init as init\n",
        "\n",
        "import numpy as np\n",
        "import matplotlib.pyplot as plt\n",
        "\n",
        "from torchvision.datasets import CIFAR10\n",
        "from torch.utils.data import DataLoader\n",
        "from torch.optim import Adam\n",
        "import torchvision\n",
        "\n",
        "torch.manual_seed(1)\n",
        "device = 'cuda' if torch.cuda.is_available() else 'cpu'"
      ]
    },
    {
      "cell_type": "code",
      "source": [],
      "metadata": {
        "id": "UYF5BRDj2r0e"
      },
      "id": "UYF5BRDj2r0e",
      "execution_count": null,
      "outputs": []
    },
    {
      "cell_type": "code",
      "execution_count": null,
      "id": "42432066-6cf0-416b-961a-adb1e3217204",
      "metadata": {
        "id": "42432066-6cf0-416b-961a-adb1e3217204"
      },
      "outputs": [],
      "source": []
    },
    {
      "cell_type": "markdown",
      "id": "f913360b-019e-4d69-a540-b7b5715544e1",
      "metadata": {
        "id": "f913360b-019e-4d69-a540-b7b5715544e1"
      },
      "source": [
        "## Data"
      ]
    },
    {
      "cell_type": "code",
      "execution_count": null,
      "id": "3ad21976-2d99-49b7-b0b5-84e9ebcd371e",
      "metadata": {
        "id": "3ad21976-2d99-49b7-b0b5-84e9ebcd371e",
        "outputId": "29077adc-9d7a-41c3-f0b2-a096cec6c71a"
      },
      "outputs": [
        {
          "name": "stdout",
          "output_type": "stream",
          "text": [
            "Files already downloaded and verified\n",
            "Files already downloaded and verified\n"
          ]
        }
      ],
      "source": [
        "batch_size = 256\n",
        "transform = transforms.Compose(\n",
        "    [\n",
        "        transforms.ToTensor()\n",
        "    ])\n",
        "\n",
        "train_set = CIFAR10(\n",
        "    root='./data',\n",
        "    train=True,\n",
        "    download=True,\n",
        "    transform=transform\n",
        ")\n",
        "\n",
        "val_set = CIFAR10(\n",
        "    root='./data',\n",
        "    train=False,\n",
        "    download=True,\n",
        "    transform=transform\n",
        ")\n",
        "\n",
        "trainloader = DataLoader(\n",
        "    train_set,\n",
        "    batch_size=batch_size,\n",
        "    shuffle=True,\n",
        "    num_workers=4\n",
        ")\n",
        "\n",
        "testloader = DataLoader(\n",
        "    val_set,\n",
        "    batch_size=batch_size,\n",
        "    shuffle=False,\n",
        "    num_workers=4\n",
        ")"
      ]
    },
    {
      "cell_type": "code",
      "execution_count": null,
      "id": "cf229497-4b6e-443d-b330-66b6fa139fcd",
      "metadata": {
        "id": "cf229497-4b6e-443d-b330-66b6fa139fcd"
      },
      "outputs": [],
      "source": []
    },
    {
      "cell_type": "markdown",
      "id": "6ea0dde8-29e7-4096-bd15-6a5ed74655f0",
      "metadata": {
        "id": "6ea0dde8-29e7-4096-bd15-6a5ed74655f0"
      },
      "source": [
        "## Model"
      ]
    },
    {
      "cell_type": "code",
      "execution_count": null,
      "id": "667fc692-e195-4fe1-94c0-1fda94be7849",
      "metadata": {
        "id": "667fc692-e195-4fe1-94c0-1fda94be7849"
      },
      "outputs": [],
      "source": [
        "class CNNModel(nn.Module):\n",
        "    def __init__(self, n_classes=10):\n",
        "        super(CNNModel, self).__init__()\n",
        "        self.conv_layer1 = nn.Sequential(\n",
        "            nn.Conv2d(3, 64, 3, stride=1, padding='same'),\n",
        "            nn.ReLU()\n",
        "        )\n",
        "        self.conv_layer2 = nn.Sequential(\n",
        "            nn.Conv2d(64, 64, 3, stride=1, padding='same'),\n",
        "            nn.ReLU()\n",
        "        )\n",
        "        self.conv_layer3 = nn.Sequential(\n",
        "            nn.Conv2d(64, 64, 3, stride=1, padding='same'),\n",
        "            nn.ReLU(),\n",
        "            nn.MaxPool2d(2, 2)\n",
        "        )\n",
        "\n",
        "        self.conv_layer4 = nn.Sequential(\n",
        "            nn.Conv2d(64, 128, 3, stride=1, padding='same'),\n",
        "            nn.ReLU(),\n",
        "        )\n",
        "        self.conv_layer5 = nn.Sequential(\n",
        "            nn.Conv2d(128, 128, 3, stride=1, padding='same'),\n",
        "            nn.ReLU(),\n",
        "        )\n",
        "        self.conv_layer6 = nn.Sequential(\n",
        "            nn.Conv2d(128, 128, 3, stride=1, padding='same'),\n",
        "            nn.ReLU(),\n",
        "            nn.MaxPool2d(2, 2)\n",
        "        )\n",
        "\n",
        "        self.conv_layer7 = nn.Sequential(\n",
        "            nn.Conv2d(128, 256, 3, stride=1, padding='same'),\n",
        "            nn.ReLU(),\n",
        "        )\n",
        "        self.conv_layer8 = nn.Sequential(\n",
        "            nn.Conv2d(256, 256, 3, stride=1, padding='same'),\n",
        "            nn.ReLU(),\n",
        "        )\n",
        "        self.conv_layer9 = nn.Sequential(\n",
        "            nn.Conv2d(256, 256, 3, stride=1, padding='same'),\n",
        "            nn.ReLU(),\n",
        "            nn.MaxPool2d(2, 2)\n",
        "        )\n",
        "\n",
        "        self.conv_layer10 = nn.Sequential(\n",
        "            nn.Conv2d(256, 512, 3, stride=1, padding='same'),\n",
        "            nn.ReLU(),\n",
        "        )\n",
        "        self.conv_layer11 = nn.Sequential(\n",
        "            nn.Conv2d(512, 512, 3, stride=1, padding='same'),\n",
        "            nn.ReLU(),\n",
        "        )\n",
        "        self.conv_layer12 = nn.Sequential(\n",
        "            nn.Conv2d(512, 512, 3, stride=1, padding='same'),\n",
        "            nn.ReLU(),\n",
        "            nn.MaxPool2d(2, 2)\n",
        "        )\n",
        "\n",
        "        self.flatten = nn.Flatten()\n",
        "\n",
        "        self.fc_layer1 = nn.Sequential(\n",
        "            nn.Linear(512 * 2 * 2, 512),\n",
        "            nn.ReLU()\n",
        "        )\n",
        "        self.fc_layer2 = nn.Linear(512, n_classes)\n",
        "\n",
        "        # Initialize weights\n",
        "        self.initialize_weights()\n",
        "\n",
        "    def initialize_weights(self):\n",
        "        for m in self.modules():\n",
        "            if isinstance(m, nn.Conv2d):\n",
        "                init.kaiming_normal_(m.weight,\n",
        "                                     nonlinearity='relu')\n",
        "                if m.bias is not None:\n",
        "                    init.zeros_(m.bias)\n",
        "            elif isinstance(m, nn.Linear):\n",
        "                init.kaiming_normal_(m.weight,\n",
        "                                     nonlinearity='relu')\n",
        "                if m.bias is not None:\n",
        "                    init.zeros_(m.bias)\n",
        "\n",
        "    def forward(self, x):\n",
        "        x = self.conv_layer1(x)\n",
        "        x = self.conv_layer2(x)\n",
        "        x = self.conv_layer3(x)\n",
        "        x = self.conv_layer4(x)\n",
        "        x = self.conv_layer5(x)\n",
        "        x = self.conv_layer6(x)\n",
        "        x = self.conv_layer7(x)\n",
        "        x = self.conv_layer8(x)\n",
        "        x = self.conv_layer9(x)\n",
        "        x = self.conv_layer10(x)\n",
        "        x = self.conv_layer11(x)\n",
        "        x = self.conv_layer12(x)\n",
        "        x = self.flatten(x)\n",
        "        x = self.fc_layer1(x)\n",
        "        out = self.fc_layer2(x)\n",
        "\n",
        "        return out"
      ]
    },
    {
      "cell_type": "code",
      "execution_count": null,
      "id": "81be3191-980a-4b94-8537-5dba83109866",
      "metadata": {
        "id": "81be3191-980a-4b94-8537-5dba83109866",
        "outputId": "c3dbe6bd-2dd2-46fb-b7db-53daed940694"
      },
      "outputs": [
        {
          "name": "stdout",
          "output_type": "stream",
          "text": [
            "CNNModel(\n",
            "  (conv_layer1): Sequential(\n",
            "    (0): Conv2d(3, 64, kernel_size=(3, 3), stride=(1, 1), padding=same)\n",
            "    (1): ReLU()\n",
            "  )\n",
            "  (conv_layer2): Sequential(\n",
            "    (0): Conv2d(64, 64, kernel_size=(3, 3), stride=(1, 1), padding=same)\n",
            "    (1): ReLU()\n",
            "  )\n",
            "  (conv_layer3): Sequential(\n",
            "    (0): Conv2d(64, 64, kernel_size=(3, 3), stride=(1, 1), padding=same)\n",
            "    (1): ReLU()\n",
            "    (2): MaxPool2d(kernel_size=2, stride=2, padding=0, dilation=1, ceil_mode=False)\n",
            "  )\n",
            "  (conv_layer4): Sequential(\n",
            "    (0): Conv2d(64, 128, kernel_size=(3, 3), stride=(1, 1), padding=same)\n",
            "    (1): ReLU()\n",
            "  )\n",
            "  (conv_layer5): Sequential(\n",
            "    (0): Conv2d(128, 128, kernel_size=(3, 3), stride=(1, 1), padding=same)\n",
            "    (1): ReLU()\n",
            "  )\n",
            "  (conv_layer6): Sequential(\n",
            "    (0): Conv2d(128, 128, kernel_size=(3, 3), stride=(1, 1), padding=same)\n",
            "    (1): ReLU()\n",
            "    (2): MaxPool2d(kernel_size=2, stride=2, padding=0, dilation=1, ceil_mode=False)\n",
            "  )\n",
            "  (conv_layer7): Sequential(\n",
            "    (0): Conv2d(128, 256, kernel_size=(3, 3), stride=(1, 1), padding=same)\n",
            "    (1): ReLU()\n",
            "  )\n",
            "  (conv_layer8): Sequential(\n",
            "    (0): Conv2d(256, 256, kernel_size=(3, 3), stride=(1, 1), padding=same)\n",
            "    (1): ReLU()\n",
            "  )\n",
            "  (conv_layer9): Sequential(\n",
            "    (0): Conv2d(256, 256, kernel_size=(3, 3), stride=(1, 1), padding=same)\n",
            "    (1): ReLU()\n",
            "    (2): MaxPool2d(kernel_size=2, stride=2, padding=0, dilation=1, ceil_mode=False)\n",
            "  )\n",
            "  (conv_layer10): Sequential(\n",
            "    (0): Conv2d(256, 512, kernel_size=(3, 3), stride=(1, 1), padding=same)\n",
            "    (1): ReLU()\n",
            "  )\n",
            "  (conv_layer11): Sequential(\n",
            "    (0): Conv2d(512, 512, kernel_size=(3, 3), stride=(1, 1), padding=same)\n",
            "    (1): ReLU()\n",
            "  )\n",
            "  (conv_layer12): Sequential(\n",
            "    (0): Conv2d(512, 512, kernel_size=(3, 3), stride=(1, 1), padding=same)\n",
            "    (1): ReLU()\n",
            "    (2): MaxPool2d(kernel_size=2, stride=2, padding=0, dilation=1, ceil_mode=False)\n",
            "  )\n",
            "  (flatten): Flatten(start_dim=1, end_dim=-1)\n",
            "  (fc_layer1): Sequential(\n",
            "    (0): Linear(in_features=2048, out_features=512, bias=True)\n",
            "    (1): ReLU()\n",
            "  )\n",
            "  (fc_layer2): Linear(in_features=512, out_features=10, bias=True)\n",
            ")\n"
          ]
        }
      ],
      "source": [
        "model = CNNModel(10)\n",
        "\n",
        "model.to(device)\n",
        "print(model)"
      ]
    },
    {
      "cell_type": "code",
      "execution_count": null,
      "id": "c8516821-d41b-42a8-9e51-ddfb8f9ec87e",
      "metadata": {
        "id": "c8516821-d41b-42a8-9e51-ddfb8f9ec87e"
      },
      "outputs": [],
      "source": []
    },
    {
      "cell_type": "markdown",
      "id": "43c7b151-a199-4e2a-8015-fdfb5f166284",
      "metadata": {
        "id": "43c7b151-a199-4e2a-8015-fdfb5f166284"
      },
      "source": [
        "# Train"
      ]
    },
    {
      "cell_type": "code",
      "execution_count": null,
      "id": "1464e2bd-b627-475d-9941-f2a930d69a14",
      "metadata": {
        "id": "1464e2bd-b627-475d-9941-f2a930d69a14"
      },
      "outputs": [],
      "source": [
        "criterion = nn.CrossEntropyLoss()\n",
        "optimizer = Adam(model.parameters(), lr=1e-3)"
      ]
    },
    {
      "cell_type": "code",
      "execution_count": null,
      "id": "04744c84-1e6d-4bfb-8dd5-abbdc91f102e",
      "metadata": {
        "id": "04744c84-1e6d-4bfb-8dd5-abbdc91f102e"
      },
      "outputs": [],
      "source": [
        "# Function to compute loss and accuracy for test set\n",
        "def evaluate(model, testloader, criterion):\n",
        "    model.eval()\n",
        "    test_loss = 0.0\n",
        "    running_correct = 0\n",
        "    total = 0\n",
        "    with torch.no_grad():\n",
        "        for images, labels in testloader:\n",
        "            # Move inputs and labels to the device\n",
        "            images, labels = images.to(device), labels.to(device)\n",
        "\n",
        "            outputs = model(images)\n",
        "            loss = criterion(outputs, labels)\n",
        "            test_loss += loss.item()\n",
        "\n",
        "            _, predicted = torch.max(outputs.data, 1)\n",
        "            total += labels.size(0)\n",
        "            running_correct += (predicted == labels).sum().item()\n",
        "\n",
        "    accuracy = 100 * running_correct / total\n",
        "    test_loss = test_loss / len(testloader)\n",
        "    return test_loss, accuracy"
      ]
    },
    {
      "cell_type": "code",
      "execution_count": null,
      "id": "f2402591-e7f7-4bdd-8962-c029cfcd9307",
      "metadata": {
        "id": "f2402591-e7f7-4bdd-8962-c029cfcd9307"
      },
      "outputs": [],
      "source": [
        "# some parameter\n",
        "train_losses = []\n",
        "train_accuracies = []\n",
        "test_losses = []\n",
        "test_accuracies = []\n",
        "max_epoch = 50"
      ]
    },
    {
      "cell_type": "code",
      "execution_count": null,
      "id": "190a58e1-0864-4818-a8d2-0f83212c6d13",
      "metadata": {
        "id": "190a58e1-0864-4818-a8d2-0f83212c6d13",
        "outputId": "c16909db-4f11-4bfd-813f-91886bf5bc83"
      },
      "outputs": [
        {
          "name": "stdout",
          "output_type": "stream",
          "text": [
            "Epoch [1/50], Loss: 2.0250, Accuracy: 27.36%, Test Loss: 1.5602, Test Accuracy: 42.44%\n",
            "Epoch [2/50], Loss: 1.3963, Accuracy: 48.13%, Test Loss: 1.2537, Test Accuracy: 55.32%\n",
            "Epoch [3/50], Loss: 1.1067, Accuracy: 59.66%, Test Loss: 0.9979, Test Accuracy: 64.44%\n",
            "Epoch [4/50], Loss: 0.8887, Accuracy: 68.25%, Test Loss: 0.8525, Test Accuracy: 71.02%\n",
            "Epoch [5/50], Loss: 0.7276, Accuracy: 74.30%, Test Loss: 0.7910, Test Accuracy: 72.65%\n",
            "Epoch [6/50], Loss: 0.5918, Accuracy: 79.19%, Test Loss: 0.7649, Test Accuracy: 74.56%\n",
            "Epoch [7/50], Loss: 0.4797, Accuracy: 83.29%, Test Loss: 0.7402, Test Accuracy: 75.78%\n",
            "Epoch [8/50], Loss: 0.4032, Accuracy: 85.85%, Test Loss: 0.7309, Test Accuracy: 77.02%\n",
            "Epoch [9/50], Loss: 0.3258, Accuracy: 88.57%, Test Loss: 0.7615, Test Accuracy: 76.70%\n",
            "Epoch [10/50], Loss: 0.2654, Accuracy: 90.77%, Test Loss: 0.8322, Test Accuracy: 77.29%\n",
            "Epoch [11/50], Loss: 0.2206, Accuracy: 92.38%, Test Loss: 0.8838, Test Accuracy: 76.70%\n",
            "Epoch [12/50], Loss: 0.1881, Accuracy: 93.29%, Test Loss: 0.9161, Test Accuracy: 76.03%\n",
            "Epoch [13/50], Loss: 0.1602, Accuracy: 94.47%, Test Loss: 0.9430, Test Accuracy: 77.24%\n",
            "Epoch [14/50], Loss: 0.1326, Accuracy: 95.37%, Test Loss: 0.9202, Test Accuracy: 76.87%\n",
            "Epoch [15/50], Loss: 0.1290, Accuracy: 95.54%, Test Loss: 1.0199, Test Accuracy: 77.20%\n",
            "Epoch [16/50], Loss: 0.1067, Accuracy: 96.36%, Test Loss: 1.0206, Test Accuracy: 76.99%\n",
            "Epoch [17/50], Loss: 0.1071, Accuracy: 96.43%, Test Loss: 1.1085, Test Accuracy: 77.22%\n",
            "Epoch [18/50], Loss: 0.0924, Accuracy: 96.88%, Test Loss: 1.0515, Test Accuracy: 77.54%\n",
            "Epoch [19/50], Loss: 0.0931, Accuracy: 96.86%, Test Loss: 1.1756, Test Accuracy: 77.78%\n",
            "Epoch [20/50], Loss: 0.0831, Accuracy: 97.26%, Test Loss: 1.0816, Test Accuracy: 77.37%\n",
            "Epoch [21/50], Loss: 0.0767, Accuracy: 97.51%, Test Loss: 1.1005, Test Accuracy: 77.05%\n",
            "Epoch [22/50], Loss: 0.0851, Accuracy: 97.18%, Test Loss: 1.1890, Test Accuracy: 77.43%\n",
            "Epoch [23/50], Loss: 0.0804, Accuracy: 97.37%, Test Loss: 1.2528, Test Accuracy: 78.47%\n",
            "Epoch [24/50], Loss: 0.0732, Accuracy: 97.46%, Test Loss: 1.2002, Test Accuracy: 76.97%\n",
            "Epoch [25/50], Loss: 0.0773, Accuracy: 97.48%, Test Loss: 1.0143, Test Accuracy: 77.70%\n",
            "Epoch [26/50], Loss: 0.0765, Accuracy: 97.51%, Test Loss: 1.0852, Test Accuracy: 78.47%\n",
            "Epoch [27/50], Loss: 0.0585, Accuracy: 98.11%, Test Loss: 1.2248, Test Accuracy: 78.19%\n",
            "Epoch [28/50], Loss: 0.0582, Accuracy: 98.07%, Test Loss: 1.2156, Test Accuracy: 77.85%\n",
            "Epoch [29/50], Loss: 0.0726, Accuracy: 97.52%, Test Loss: 1.1584, Test Accuracy: 78.00%\n",
            "Epoch [30/50], Loss: 0.0668, Accuracy: 97.91%, Test Loss: 1.1059, Test Accuracy: 78.30%\n",
            "Epoch [31/50], Loss: 0.0635, Accuracy: 98.00%, Test Loss: 1.3023, Test Accuracy: 77.60%\n",
            "Epoch [32/50], Loss: 0.0708, Accuracy: 97.69%, Test Loss: 1.1583, Test Accuracy: 76.52%\n",
            "Epoch [33/50], Loss: 0.0662, Accuracy: 97.86%, Test Loss: 1.1925, Test Accuracy: 77.71%\n",
            "Epoch [34/50], Loss: 0.0602, Accuracy: 98.00%, Test Loss: 1.1981, Test Accuracy: 77.28%\n",
            "Epoch [35/50], Loss: 0.0537, Accuracy: 98.27%, Test Loss: 1.3550, Test Accuracy: 78.02%\n",
            "Epoch [36/50], Loss: 0.0685, Accuracy: 97.85%, Test Loss: 1.2907, Test Accuracy: 77.78%\n",
            "Epoch [37/50], Loss: 0.0476, Accuracy: 98.47%, Test Loss: 1.5371, Test Accuracy: 78.16%\n",
            "Epoch [38/50], Loss: 0.0580, Accuracy: 98.16%, Test Loss: 1.3387, Test Accuracy: 76.21%\n",
            "Epoch [39/50], Loss: 0.0639, Accuracy: 97.98%, Test Loss: 1.2330, Test Accuracy: 77.46%\n",
            "Epoch [40/50], Loss: 0.0565, Accuracy: 98.23%, Test Loss: 1.2996, Test Accuracy: 78.21%\n",
            "Epoch [41/50], Loss: 0.0661, Accuracy: 98.00%, Test Loss: 1.2122, Test Accuracy: 78.45%\n",
            "Epoch [42/50], Loss: 0.0497, Accuracy: 98.46%, Test Loss: 1.3217, Test Accuracy: 77.87%\n",
            "Epoch [43/50], Loss: 0.0594, Accuracy: 98.21%, Test Loss: 1.1988, Test Accuracy: 77.86%\n",
            "Epoch [44/50], Loss: 0.0544, Accuracy: 98.35%, Test Loss: 1.3620, Test Accuracy: 78.23%\n",
            "Epoch [45/50], Loss: 0.0586, Accuracy: 98.20%, Test Loss: 1.3945, Test Accuracy: 78.10%\n",
            "Epoch [46/50], Loss: 0.0497, Accuracy: 98.52%, Test Loss: 1.4766, Test Accuracy: 78.81%\n",
            "Epoch [47/50], Loss: 0.0562, Accuracy: 98.25%, Test Loss: 1.3967, Test Accuracy: 78.06%\n",
            "Epoch [48/50], Loss: 0.0609, Accuracy: 98.20%, Test Loss: 1.2808, Test Accuracy: 77.87%\n",
            "Epoch [49/50], Loss: 0.0441, Accuracy: 98.64%, Test Loss: 1.4133, Test Accuracy: 77.78%\n",
            "Epoch [50/50], Loss: 0.0614, Accuracy: 98.11%, Test Loss: 1.2844, Test Accuracy: 78.26%\n"
          ]
        }
      ],
      "source": [
        "# train\n",
        "for epoch in range(max_epoch):\n",
        "    model.train()\n",
        "    running_loss = 0.0\n",
        "    running_correct = 0   # to track number of correct predictions\n",
        "    total = 0             # to track total number of samples\n",
        "\n",
        "    for i, (inputs, labels) in enumerate(trainloader, 0):\n",
        "        # Move inputs and labels to the device\n",
        "        inputs, labels = inputs.to(device), labels.to(device)\n",
        "\n",
        "        # Zero the parameter gradients\n",
        "        optimizer.zero_grad()\n",
        "\n",
        "        # Forward pass\n",
        "        outputs = model(inputs)\n",
        "        loss = criterion(outputs, labels)\n",
        "        running_loss += loss.item()\n",
        "\n",
        "        # Backward pass and optimization\n",
        "        loss.backward()\n",
        "        optimizer.step()\n",
        "\n",
        "        # Determine class predictions and track accuracy\n",
        "        _, predicted = torch.max(outputs.data, 1)\n",
        "        total += labels.size(0)\n",
        "        running_correct += (predicted == labels).sum().item()\n",
        "\n",
        "\n",
        "    epoch_accuracy = 100 * running_correct / total\n",
        "    epoch_loss = running_loss / (i + 1)\n",
        "\n",
        "    test_loss, test_accuracy = evaluate(model, testloader, criterion)\n",
        "    print(f\"Epoch [{epoch + 1}/{max_epoch}], Loss: {epoch_loss:.4f}, Accuracy: {epoch_accuracy:.2f}%, Test Loss: {test_loss:.4f}, Test Accuracy: {test_accuracy:.2f}%\")\n",
        "\n",
        "    # save for plot\n",
        "    train_losses.append(epoch_loss)\n",
        "    train_accuracies.append(epoch_accuracy)\n",
        "    test_losses.append(test_loss)\n",
        "    test_accuracies.append(test_accuracy)"
      ]
    },
    {
      "cell_type": "code",
      "execution_count": null,
      "id": "cebcb439-88f2-40b6-9a17-4990ad324731",
      "metadata": {
        "id": "cebcb439-88f2-40b6-9a17-4990ad324731"
      },
      "outputs": [],
      "source": []
    },
    {
      "cell_type": "code",
      "execution_count": null,
      "id": "DkC3_902Lgn-",
      "metadata": {
        "id": "DkC3_902Lgn-",
        "outputId": "c936e2e3-488d-4ce5-aa5b-4c0a1da44e69"
      },
      "outputs": [
        {
          "data": {
            "text/plain": [
              "<matplotlib.legend.Legend at 0x7fb9e8a02620>"
            ]
          },
          "execution_count": 9,
          "metadata": {},
          "output_type": "execute_result"
        },
        {
          "data": {
            "image/png": "[encoded data removed]",
            "text/plain": [
              "<Figure size 640x480 with 1 Axes>"
            ]
          },
          "metadata": {},
          "output_type": "display_data"
        }
      ],
      "source": [
        "import matplotlib.pyplot as plt\n",
        "\n",
        "plt.plot(train_losses, label='train_losses')\n",
        "plt.plot(test_losses, label='test_losses')\n",
        "plt.legend()"
      ]
    },
    {
      "cell_type": "code",
      "execution_count": null,
      "id": "794f4e81",
      "metadata": {
        "id": "794f4e81",
        "outputId": "3c28bc0f-1698-493c-9d60-3765c3620066"
      },
      "outputs": [
        {
          "data": {
            "text/plain": [
              "<matplotlib.legend.Legend at 0x7fb91005b670>"
            ]
          },
          "execution_count": 10,
          "metadata": {},
          "output_type": "execute_result"
        },
        {
          "data": {
            "image/png": "[encoded data removed]",
            "text/plain": [
              "<Figure size 640x480 with 1 Axes>"
            ]
          },
          "metadata": {},
          "output_type": "display_data"
        }
      ],
      "source": [
        "import matplotlib.pyplot as plt\n",
        "\n",
        "plt.plot(train_accuracies, label='train_accuracy')\n",
        "plt.plot(test_accuracies, label='test_accuracy')\n",
        "plt.legend()"
      ]
    },
    {
      "cell_type": "code",
      "execution_count": null,
      "id": "a2ec7c96-ff05-4863-92e7-c45f2f0e3d03",
      "metadata": {
        "id": "a2ec7c96-ff05-4863-92e7-c45f2f0e3d03"
      },
      "outputs": [],
      "source": []
    },
    {
      "cell_type": "code",
      "execution_count": null,
      "id": "8c86325e-7b6c-43a6-b315-93e02bcdb264",
      "metadata": {
        "id": "8c86325e-7b6c-43a6-b315-93e02bcdb264"
      },
      "outputs": [],
      "source": []
    },
    {
      "cell_type": "code",
      "execution_count": null,
      "id": "d2a401f6-9ed4-4dee-9e95-f65826e2d92d",
      "metadata": {
        "id": "d2a401f6-9ed4-4dee-9e95-f65826e2d92d",
        "outputId": "b792a003-14df-495b-e55f-7b2c4446ae27"
      },
      "outputs": [
        {
          "data": {
            "text/plain": [
              "<matplotlib.legend.Legend at 0x7fb86011a4d0>"
            ]
          },
          "execution_count": 11,
          "metadata": {},
          "output_type": "execute_result"
        }
      ],
      "source": [
        "import matplotlib.pyplot as plt\n",
        "%matplotlib qt\n",
        "\n",
        "plt.plot(train_losses, label='train_losses')\n",
        "plt.plot(test_losses, label='test_losses')\n",
        "plt.legend()"
      ]
    },
    {
      "cell_type": "code",
      "execution_count": null,
      "id": "b4d1601e-a633-4f04-b476-7288856e1971",
      "metadata": {
        "id": "b4d1601e-a633-4f04-b476-7288856e1971",
        "outputId": "d5be98b1-2451-4102-9be0-ee55071245aa"
      },
      "outputs": [
        {
          "data": {
            "text/plain": [
              "<matplotlib.legend.Legend at 0x7fb8601be920>"
            ]
          },
          "execution_count": 12,
          "metadata": {},
          "output_type": "execute_result"
        }
      ],
      "source": [
        "import matplotlib.pyplot as plt\n",
        "%matplotlib qt\n",
        "\n",
        "plt.plot(train_accuracies, label='train_accuracy')\n",
        "plt.plot(test_accuracies, label='test_accuracy')\n",
        "plt.legend()"
      ]
    },
    {
      "cell_type": "code",
      "execution_count": null,
      "id": "37ca2943-4e11-49ec-ba79-42ad1f15d62d",
      "metadata": {
        "id": "37ca2943-4e11-49ec-ba79-42ad1f15d62d"
      },
      "outputs": [],
      "source": []
    }
  ],
  "metadata": {
    "accelerator": "GPU",
    "colab": {
      "provenance": []
    },
    "gpuClass": "standard",
    "kernelspec": {
      "display_name": "Python 3 (ipykernel)",
      "language": "python",
      "name": "python3"
    },
    "language_info": {
      "codemirror_mode": {
        "name": "ipython",
        "version": 3
      },
      "file_extension": ".py",
      "mimetype": "text/x-python",
      "name": "python",
      "nbconvert_exporter": "python",
      "pygments_lexer": "ipython3",
      "version": "3.9.18"
    }
  },
  "nbformat": 4,
  "nbformat_minor": 5
}